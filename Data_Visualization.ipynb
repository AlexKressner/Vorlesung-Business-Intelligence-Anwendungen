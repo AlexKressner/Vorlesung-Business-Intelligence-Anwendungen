{
  "cells": [
    {
      "cell_type": "markdown",
      "metadata": {
        "id": "view-in-github",
        "colab_type": "text"
      },
      "source": [
        "<a href=\"https://colab.research.google.com/github/AlexKressner/Vorlesung-Business-Intelligence-Anwendungen/blob/main/Data_Visualization.ipynb\" target=\"_parent\"><img src=\"https://colab.research.google.com/assets/colab-badge.svg\" alt=\"Open In Colab\"/></a>"
      ]
    },
    {
      "cell_type": "markdown",
      "id": "64b0765e-bc90-46b8-8c66-0123b137bf19",
      "metadata": {
        "jp-MarkdownHeadingCollapsed": true,
        "tags": [],
        "id": "64b0765e-bc90-46b8-8c66-0123b137bf19"
      },
      "source": [
        "# Übersicht\n",
        "1. [Erste Visualisierungsformen](#erste_visualisierungen)\n",
        "  1. [Histogramm](#einführung_hist)\n",
        "  1. [Säulendiagramm](#einführung_bar)\n",
        "  1. [Liniendiagramm](#einführung_line)\n",
        "1. [Weitere nützliche Funktionen](#weitere_funktionen)"
      ]
    },
    {
      "cell_type": "markdown",
      "id": "4568c8d2-8df2-406b-9dd1-a3420d979671",
      "metadata": {
        "id": "4568c8d2-8df2-406b-9dd1-a3420d979671"
      },
      "source": [
        "# Übungsaufgaben\n",
        "- [Visualisierung - Verkaufszahlen Walmart](#walmart)"
      ]
    },
    {
      "cell_type": "markdown",
      "source": [
        "# Setup\n",
        "Für die Visualisierung nutzen wir das Package `matplotlib` und die Funktionalitäten rundum `pyplot`. Dazu importieren wir zunächst das Package (ggf. müssen Sie dieses noch mithilfe von `pip3 install matplotlib` installieren). Es ist üblich `matplotlib.pyplot` als `plt` zu importieren."
      ],
      "metadata": {
        "id": "ZYwFfQxaggM3"
      },
      "id": "ZYwFfQxaggM3"
    },
    {
      "cell_type": "code",
      "execution_count": null,
      "id": "95b4bd1d-6f68-486e-b2b7-5da11515bc34",
      "metadata": {
        "id": "95b4bd1d-6f68-486e-b2b7-5da11515bc34"
      },
      "outputs": [],
      "source": [
        "import matplotlib.pyplot as plt"
      ]
    },
    {
      "cell_type": "markdown",
      "source": [
        "Zusätzlich müssen wir erneut das Package `pandas` laden."
      ],
      "metadata": {
        "id": "O7M2J2GtJD_c"
      },
      "id": "O7M2J2GtJD_c"
    },
    {
      "cell_type": "code",
      "source": [
        "import pandas as pd"
      ],
      "metadata": {
        "id": "zS1ciLqKJKTG"
      },
      "id": "zS1ciLqKJKTG",
      "execution_count": null,
      "outputs": []
    },
    {
      "cell_type": "code",
      "source": [
        "! pip install lux -q"
      ],
      "metadata": {
        "id": "OLdVKld7Xv6Q"
      },
      "id": "OLdVKld7Xv6Q",
      "execution_count": null,
      "outputs": []
    },
    {
      "cell_type": "code",
      "source": [
        "import lux"
      ],
      "metadata": {
        "id": "KmjCYYvEXx8Y"
      },
      "id": "KmjCYYvEXx8Y",
      "execution_count": null,
      "outputs": []
    },
    {
      "cell_type": "code",
      "source": [
        "from google.colab import output \n",
        "output.enable_custom_widget_manager()"
      ],
      "metadata": {
        "id": "gQRnFduDXz8A"
      },
      "id": "gQRnFduDXz8A",
      "execution_count": null,
      "outputs": []
    },
    {
      "cell_type": "markdown",
      "id": "da1dc354-6526-4501-afae-7311f7019df2",
      "metadata": {
        "id": "da1dc354-6526-4501-afae-7311f7019df2"
      },
      "source": [
        "## 1 Erste Visualisierungsformen <a class=\"anchor\" id=\"erste_visualisierungen\"></a>\n",
        "Wir laden erneut den Rossmann Store Sales Datensatz aus einer csv-Datei. Anschließend wenden wir die `.plot()` Methode auf diesen DataFrame an. Über das Argument `kind` kann z.B. gesteuert werden, welche Art von Diagramm erzeugt wird. "
      ]
    },
    {
      "cell_type": "code",
      "source": [
        "from google.colab import drive\n",
        "drive.mount('/content/drive')"
      ],
      "metadata": {
        "id": "ZrxynS7sW_4i"
      },
      "id": "ZrxynS7sW_4i",
      "execution_count": null,
      "outputs": []
    },
    {
      "cell_type": "code",
      "source": [
        "PATH = \"/content/drive/MyDrive/DHBW/BI/Daten/Rossmann/\""
      ],
      "metadata": {
        "id": "L3INU8AiBQEt"
      },
      "id": "L3INU8AiBQEt",
      "execution_count": null,
      "outputs": []
    },
    {
      "cell_type": "code",
      "source": [
        "dtypes= {\n",
        "    \"Store\":\"str\",\n",
        "    \"DayOfWeek\":\"str\",\n",
        "    \"Open\":\"str\",\n",
        "    \"Promo\":\"str\",\n",
        "    \"StateHoliday\":\"str\",\n",
        "    \"SchoolHoliday\":\"str\",\n",
        "}"
      ],
      "metadata": {
        "id": "HakPpwAMBUDm"
      },
      "id": "HakPpwAMBUDm",
      "execution_count": null,
      "outputs": []
    },
    {
      "cell_type": "code",
      "execution_count": null,
      "id": "a4fb76f1-6255-4751-9075-bfbcc4bb0b0e",
      "metadata": {
        "id": "a4fb76f1-6255-4751-9075-bfbcc4bb0b0e"
      },
      "outputs": [],
      "source": [
        "sales = pd.read_csv(PATH + \"sales.csv\", dtype=dtypes, parse_dates=[\"Date\"])"
      ]
    },
    {
      "cell_type": "code",
      "execution_count": null,
      "id": "7f1b6c37-56b1-4353-bdd9-b7c8906635c3",
      "metadata": {
        "id": "7f1b6c37-56b1-4353-bdd9-b7c8906635c3"
      },
      "outputs": [],
      "source": [
        "sales.head()"
      ]
    },
    {
      "cell_type": "markdown",
      "id": "bbfbd80a-ded7-41f7-8e5e-30f175950bc6",
      "metadata": {
        "id": "bbfbd80a-ded7-41f7-8e5e-30f175950bc6"
      },
      "source": [
        "### 1.1 Histogramm <a class=\"anchor\" id=\"einführung_hist\"></a>\n",
        "Ein Histogramm ist eine grafische Darstellung der Häufigkeitsverteilung kardinal skalierter Merkmale. Es erfordert die Einteilung der Daten in Klassen (englisch bins), die eine konstante oder variable Breite haben können. Es werden direkt nebeneinanderliegende Rechtecke von der Breite der jeweiligen Klasse gezeichnet, deren Flächeninhalte die (relativen oder absoluten) Klassenhäufigkeiten darstellen. Die Höhe jedes Rechtecks stellt dann die (relative oder absolute) Häufigkeitsdichte dar, also die (relative oder absolute) Häufigkeit dividiert durch die Breite der entsprechenden Klasse. (Quelle: Wikipedia)"
      ]
    },
    {
      "cell_type": "code",
      "execution_count": null,
      "id": "2fce6814-c635-4d53-b432-830d91858bf0",
      "metadata": {
        "id": "2fce6814-c635-4d53-b432-830d91858bf0"
      },
      "outputs": [],
      "source": [
        "# Blue Print zur Erstellung von Abbildungen\n",
        "# 1. Welche Daten sollen abgebildet werden -> Auswahl der Spalte mit Daten: sales[\"Customers\"]\n",
        "# 2. Wie ist die Darstellungsform -> Auswahl der Abbilung: plot(kind=\"hist\")\n",
        "sales[\"Customers\"].plot(kind=\"hist\")\n",
        "plt.show()"
      ]
    },
    {
      "cell_type": "markdown",
      "id": "7ccf7487-2a04-4991-a9f1-cd2bd583ae94",
      "metadata": {
        "id": "7ccf7487-2a04-4991-a9f1-cd2bd583ae94"
      },
      "source": [
        "Mit dem Argument `bins` geben Sie an, in wie viele verschiedene Klassen die Daten eingeteilt werden. **Frage:** Was ist der Default-Wert für `bins`, d.h. wenn kein Argument beim Aufruf der Methode `.plot()` übergeben wird?"
      ]
    },
    {
      "cell_type": "code",
      "execution_count": null,
      "id": "12c42cb3-6a4b-4661-8871-fe2d2bc13857",
      "metadata": {
        "id": "12c42cb3-6a4b-4661-8871-fe2d2bc13857"
      },
      "outputs": [],
      "source": [
        "sales[\"Customers\"].plot(kind=\"hist\", bins=25)\n",
        "plt.show()"
      ]
    },
    {
      "cell_type": "markdown",
      "source": [
        "Ein Übersicht zu allen Argumenten zur Übergabe an die Funktion `plot()` finden Sie in der Online-Dokumentation von `pandas` unter folgendem [Link](https://pandas.pydata.org/docs/reference/api/pandas.DataFrame.plot.html)."
      ],
      "metadata": {
        "id": "jtOneBENdkyq"
      },
      "id": "jtOneBENdkyq"
    },
    {
      "cell_type": "markdown",
      "source": [
        "Das folgende Beispiel zeigt, wie Sie mehrere Histogramm für einzelne Spalten gleichzeitig erstellen. Zunächst wählen Sie die relevanten Spalten des DataFrames `sales` aus, d.h. `[[\"Customers\", \"Sales\"]]` und rufen im Anschluss direkt die Funktion zur Erstellung eines Histogramms auf `hist()`. Zu letzterer finden Sie die Dokumentation [hier](https://pandas.pydata.org/docs/reference/api/pandas.DataFrame.hist.html)."
      ],
      "metadata": {
        "id": "k4f5n1jWd6x5"
      },
      "id": "k4f5n1jWd6x5"
    },
    {
      "cell_type": "code",
      "source": [
        "sales[[\"Customers\", \"Sales\"]].hist(bins=10)\n",
        "plt.show()"
      ],
      "metadata": {
        "id": "Lv0EbNfjc4N2"
      },
      "id": "Lv0EbNfjc4N2",
      "execution_count": null,
      "outputs": []
    },
    {
      "cell_type": "markdown",
      "id": "5e10e98f-4ecb-4a03-8c45-76b567c7cb24",
      "metadata": {
        "id": "5e10e98f-4ecb-4a03-8c45-76b567c7cb24"
      },
      "source": [
        "### 1.2 Säulendiagramm <a class=\"anchor\" id=\"einführung_bar\"></a>\n",
        "Das Säulendiagramm, bei schmalen Säulen auch Stabdiagramm genannt, ist ein Diagramm zur vergleichenden Darstellung, das durch auf der x-Achse senkrecht stehende, nicht aneinandergrenzende Säulen (Rechtecke mit bedeutungsloser Breite) die Häufigkeitsverteilung einer diskreten (Zufalls-)Variablen veranschaulicht. Das Säulendiagramm eignet sich besonders, um wenige Ausprägungen (bis ca. 15) zu veranschaulichen.(Quelle: Wikipedia)"
      ]
    },
    {
      "cell_type": "code",
      "execution_count": null,
      "id": "79a0082e-8f2c-4889-85a5-8bb41b2ae2b5",
      "metadata": {
        "id": "79a0082e-8f2c-4889-85a5-8bb41b2ae2b5"
      },
      "outputs": [],
      "source": [
        "mean_customers_day_of_week = sales.groupby(\"DayOfWeek\")[\"Customers\"].mean()\n",
        "mean_customers_day_of_week.head()"
      ]
    },
    {
      "cell_type": "code",
      "execution_count": null,
      "id": "fc7eae65-5fb7-49a1-ab50-77b71c619953",
      "metadata": {
        "id": "fc7eae65-5fb7-49a1-ab50-77b71c619953"
      },
      "outputs": [],
      "source": [
        "mean_customers_day_of_week.plot(kind=\"bar\", grid=True)\n",
        "plt.show()"
      ]
    },
    {
      "cell_type": "code",
      "execution_count": null,
      "id": "8bc525c7-9c3d-4598-8a48-3a768bb7347a",
      "metadata": {
        "id": "8bc525c7-9c3d-4598-8a48-3a768bb7347a"
      },
      "outputs": [],
      "source": [
        "mean_customers_day_of_week.plot(kind=\"bar\", \n",
        "                             title=\"Mittlere Anzahl von Kunden\",\n",
        "                             xlabel=\"Wochentag\",\n",
        "                             ylabel=\"Anzahl Kunden\",\n",
        "                             grid=True\n",
        "                            )\n",
        "plt.show()"
      ]
    },
    {
      "cell_type": "markdown",
      "id": "2cd2fd58-3fbf-4ce3-b277-35a2e939589b",
      "metadata": {
        "id": "2cd2fd58-3fbf-4ce3-b277-35a2e939589b"
      },
      "source": [
        "### 1.3 Liniendiagramm <a class=\"anchor\" id=\"einführung_line\"></a>\n",
        "Ein Liniendiagramm, auch Kurvendiagramm, ist die graphische Darstellung des funktionellen Zusammenhangs zweier (bei zweidimensionaler Darstellung) oder dreier (bei dreidimensionaler Darstellung) Merkmale als Diagramm in Linienform, wodurch Veränderungen bzw. Entwicklungen (etwa innerhalb eines bestimmten Zeitabschnitts) dargestellt werden können. (Quelle: Wikipedia)"
      ]
    },
    {
      "cell_type": "markdown",
      "source": [
        "**Frage:** Bitte erläutern Sie was in den folgenden Code-Zellen passiert? Hinweis: Wir erzeugen zunächst eine neue Spalte, deren Werte wir aus der Spalte `Date` ableiten und gruppieren die Daten anschließend für die Visualisierung."
      ],
      "metadata": {
        "id": "Y-mmzEK32i5G"
      },
      "id": "Y-mmzEK32i5G"
    },
    {
      "cell_type": "code",
      "source": [
        "sales[\"YearMonth\"] = sales.Date.dt.strftime(\"%Y-%m\")"
      ],
      "metadata": {
        "id": "IF7MTj_9DdvN"
      },
      "id": "IF7MTj_9DdvN",
      "execution_count": null,
      "outputs": []
    },
    {
      "cell_type": "code",
      "source": [
        "sales.groupby(\"YearMonth\")[\"Customers\"].sum()"
      ],
      "metadata": {
        "id": "bXUU56zK2RLN"
      },
      "id": "bXUU56zK2RLN",
      "execution_count": null,
      "outputs": []
    },
    {
      "cell_type": "markdown",
      "source": [
        "Wie Sie oben erkennen können, erhalten wir durch die Gruppierung eine `Series`. Der Index der Serie ist `YearMonth`, die Werte die Summe der Kunden. Wir können die `Series` wie folgt wieder in einen `DataFrame` umwandeln."
      ],
      "metadata": {
        "id": "7oCK9Fv6Exnm"
      },
      "id": "7oCK9Fv6Exnm"
    },
    {
      "cell_type": "code",
      "source": [
        "timeseries_sum_of_customers = sales.groupby(\"YearMonth\")[\"Customers\"].sum().reset_index()\n",
        "timeseries_sum_of_customers.head()"
      ],
      "metadata": {
        "id": "SSSkJzhV2wFf"
      },
      "id": "SSSkJzhV2wFf",
      "execution_count": null,
      "outputs": []
    },
    {
      "cell_type": "markdown",
      "source": [
        "Mit der Methode `.rename()` können Sie beispielsweise die Namen von Spalten eines Dataframes ändern. Die Systematik ist die folgende: `\"alter Spaltenname\":\"neuer Spaltenname\"`!"
      ],
      "metadata": {
        "id": "RmrAC7GK31tv"
      },
      "id": "RmrAC7GK31tv"
    },
    {
      "cell_type": "code",
      "source": [
        "# Anzahl Kunden in Tausend\n",
        "timeseries_sum_of_customers.Customers = timeseries_sum_of_customers.Customers/1000"
      ],
      "metadata": {
        "id": "1BNjlGTnPC08"
      },
      "id": "1BNjlGTnPC08",
      "execution_count": null,
      "outputs": []
    },
    {
      "cell_type": "code",
      "source": [
        "timeseries_sum_of_customers.rename(columns={\"YearMonth\":\"Jahr-Woche\", \"Customers\":\"AnzahlKunden(Tsd)\"}, inplace=True)"
      ],
      "metadata": {
        "id": "j2mBkZh727r5"
      },
      "id": "j2mBkZh727r5",
      "execution_count": null,
      "outputs": []
    },
    {
      "cell_type": "code",
      "execution_count": null,
      "id": "da16f94d-66f3-4cb5-bd8e-7112cf6ab752",
      "metadata": {
        "id": "da16f94d-66f3-4cb5-bd8e-7112cf6ab752"
      },
      "outputs": [],
      "source": [
        "timeseries_sum_of_customers.plot(kind=\"line\", x=\"Jahr-Woche\", y=\"AnzahlKunden(Tsd)\")\n",
        "plt.show()"
      ]
    },
    {
      "cell_type": "markdown",
      "id": "c27559ea-8e1f-47b4-b2b2-381b00e9edec",
      "metadata": {
        "id": "c27559ea-8e1f-47b4-b2b2-381b00e9edec"
      },
      "source": [
        "Liniendiagramm mit Rotation der x-Achse um 45 Grad (`rot=45`) und Anzeige sämtlicher Jahre, in denen Weltmeisterschaften gespielt wurden. Für letzteres nutzen Sie den Parameter `xticks`. Dieser erwartet eine Liste, die alle auf der x-Achse anzuzeigenden Elemente enthält. Mit dem Aufruf `data.Year.unique()` erhalten wir genau eine Liste, die alle Jahre an denen Weltmeisterschaften gespielt wurde."
      ]
    },
    {
      "cell_type": "code",
      "source": [
        "timeseries_sum_of_customers[\"Jahr-Woche\"].unique()"
      ],
      "metadata": {
        "id": "R3kDr8EaH1Xn"
      },
      "id": "R3kDr8EaH1Xn",
      "execution_count": null,
      "outputs": []
    },
    {
      "cell_type": "code",
      "execution_count": null,
      "id": "70541249-4edb-4c71-9c39-634b9c3c8bef",
      "metadata": {
        "id": "70541249-4edb-4c71-9c39-634b9c3c8bef"
      },
      "outputs": [],
      "source": [
        "timeseries_sum_of_customers.plot(kind=\"line\",\n",
        "            x=\"Jahr-Woche\",\n",
        "            y=\"AnzahlKunden(Tsd)\",\n",
        "            rot=50,\n",
        "            legend=False\n",
        "            )\n",
        "plt.show()"
      ]
    },
    {
      "cell_type": "markdown",
      "id": "d956b0ee-ae22-40c8-83e5-51cc9c8a0692",
      "metadata": {
        "id": "d956b0ee-ae22-40c8-83e5-51cc9c8a0692"
      },
      "source": [
        "## 2 Weitere nützliche Funktionalitäten <a class=\"anchor\" id=\"weitere_funktionen\"></a>\n",
        "\n"
      ]
    },
    {
      "cell_type": "code",
      "source": [
        "sales.head()"
      ],
      "metadata": {
        "id": "RfNRUubbPqXN"
      },
      "id": "RfNRUubbPqXN",
      "execution_count": null,
      "outputs": []
    },
    {
      "cell_type": "code",
      "execution_count": null,
      "id": "6dc1ab95-c238-4999-a439-a4412195b923",
      "metadata": {
        "id": "6dc1ab95-c238-4999-a439-a4412195b923"
      },
      "outputs": [],
      "source": [
        "# Hinzufügen einer Legende\n",
        "sales[sales.Date.dt.year==2015][\"Customers\"].plot(kind=\"hist\")\n",
        "sales[sales.Date.dt.year==2014][\"Customers\"].plot(kind=\"hist\")\n",
        "plt.legend([\"Kunden2015\",\"Kunden2014\"])\n",
        "plt.show()"
      ]
    },
    {
      "cell_type": "code",
      "execution_count": null,
      "id": "f4cfdbfa-c577-4497-b20e-f5adc4292f4f",
      "metadata": {
        "id": "f4cfdbfa-c577-4497-b20e-f5adc4292f4f"
      },
      "outputs": [],
      "source": [
        "# Transparenz\n",
        "# 1. Histogramm\n",
        "sales[sales.Date.dt.year==2015][\"Customers\"].plot(kind=\"hist\", alpha=0.5, bins=20)\n",
        "# 2. Histogramm\n",
        "sales[sales.Date.dt.year==2014][\"Customers\"].plot(kind=\"hist\", alpha=0.5, bins=20)\n",
        "# Legende in der Abbildung für beide Histogramm\n",
        "plt.legend([\"Kunden2015\",\"Kunden2014\"])\n",
        "# Befehld zur Erstellung der Abbildung\n",
        "plt.show()"
      ]
    },
    {
      "cell_type": "code",
      "execution_count": null,
      "id": "b7ac1402-56f1-42ac-8360-edd108d654e7",
      "metadata": {
        "id": "b7ac1402-56f1-42ac-8360-edd108d654e7"
      },
      "outputs": [],
      "source": [
        "# Veränderung der Diagrammgröße\n",
        "sales[sales.Date.dt.year==2015][\"Customers\"].plot(kind=\"hist\", figsize=(8,5))\n",
        "plt.show()"
      ]
    },
    {
      "cell_type": "markdown",
      "id": "434c4391-ea4b-4b1d-ad78-1689c5211ba4",
      "metadata": {
        "id": "434c4391-ea4b-4b1d-ad78-1689c5211ba4"
      },
      "source": [
        "### Aufgabe: Visualisierungen - Rossmann Store Sales <a class=\"anchor\" id=\"rossmann\"></a>"
      ]
    },
    {
      "cell_type": "markdown",
      "id": "8a2d61cd-b5ba-413a-91ec-ce2b8a94cc92",
      "metadata": {
        "id": "8a2d61cd-b5ba-413a-91ec-ce2b8a94cc92"
      },
      "source": [
        "Bitte berarbeiten Sie nun die folgenden Aufgaben:\n",
        "1. Erstellen Sie ein Histogramm, welches die gesamten wöchentlichen Verkaufszahlen (`Sales`) zeigt!\n",
        "1. Vergleichen Sie die täglichen Verkaufszahlen mit und ohne Promo in zwei Histogrammen. Passen Sie bitte die Größe des Diagramm für eine bessere Lesbarkeit an!\n",
        "1. Welcher Store hatte im Betrachtungszeitraum die besten Verkaufszahlen?\n",
        "1. Stellen Sie die 10 umsatzstärksten Stores mit ihren durchschnittlichen wöchentlichen Verkaufszahlen in einem Säulendiagramm dar!"
      ]
    },
    {
      "cell_type": "code",
      "source": [],
      "metadata": {
        "id": "ppBSn1H0cKzh"
      },
      "id": "ppBSn1H0cKzh",
      "execution_count": null,
      "outputs": []
    },
    {
      "cell_type": "code",
      "source": [],
      "metadata": {
        "id": "0BihM0izXcUj"
      },
      "id": "0BihM0izXcUj",
      "execution_count": null,
      "outputs": []
    }
  ],
  "metadata": {
    "kernelspec": {
      "display_name": "Python 3 (ipykernel)",
      "language": "python",
      "name": "python3"
    },
    "language_info": {
      "codemirror_mode": {
        "name": "ipython",
        "version": 3
      },
      "file_extension": ".py",
      "mimetype": "text/x-python",
      "name": "python",
      "nbconvert_exporter": "python",
      "pygments_lexer": "ipython3",
      "version": "3.8.5"
    },
    "colab": {
      "provenance": [],
      "include_colab_link": true
    }
  },
  "nbformat": 4,
  "nbformat_minor": 5
}
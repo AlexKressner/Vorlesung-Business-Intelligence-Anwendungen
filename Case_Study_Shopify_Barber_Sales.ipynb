{
  "cells": [
    {
      "cell_type": "markdown",
      "metadata": {
        "id": "view-in-github",
        "colab_type": "text"
      },
      "source": [
        "<a href=\"https://colab.research.google.com/github/AlexKressner/Vorlesung-Business-Intelligence-Anwendungen/blob/main/Case_Study_Shopify_Barber_Sales.ipynb\" target=\"_parent\"><img src=\"https://colab.research.google.com/assets/colab-badge.svg\" alt=\"Open In Colab\"/></a>"
      ]
    },
    {
      "cell_type": "markdown",
      "source": [
        "# Case Study \"Online Barber Shop\"\n",
        "Sie finden bei Moodle den Ausschnitt eines realen Datensatzes einer **Direct-to-Consumer (D2C) Brand**, die über einen Onlineshop **Rasierer** und **Rasierzubehör** verkauft. Für das Unternehmen ist es enorm wichtig, dass es die voraussichtlichen **Absätze der nächsten 21 Tage** kennt, da es Waren im Voraus bei seinen Lieferanten bestellen muss. Je genauer die Absatzprognose, desto weniger Stockouts bzw. unnötige Bestände hat das Unternehmen und desto besser die Marge.\n",
        "\n",
        "Bisher ist es dem Unternehmen nicht gelungen, gute Prognosen zu erstellen. Um dies zu ändern, werden Sie nun beauftragt, eine Prognose mithilfe von ML-Algorithmen anzufertigen. Dazu stellt Ihnen das Unternehmen einen ersten Datensatz aus seinem Shopsystem zur Verfügung. In diesem sind **3 Produkte** enthalten (Alaunstein, Bartbalm und ein Rasierer) und Sie sollen für diese jeweils eine Absatzprogonse erstellen. Bitte orientieren Sie sich bei der Bearbeitung der Fallstudie an der in diesem Notebook vorgeschlagenen Struktur und greifen Sie auf die Notebooks zurück, die wir bereits in der Vorlesung gemeinsam bearbeitet haben."
      ],
      "metadata": {
        "id": "TlEeS6BHfKV9"
      },
      "id": "TlEeS6BHfKV9"
    },
    {
      "cell_type": "markdown",
      "source": [
        "# 1 Daten in Google-Drive importieren und in Notebook laden\n",
        "Bitte achten Sie hier darauf, dass die Datentypen für die Werte in den Spalten geeignet gewählt sind."
      ],
      "metadata": {
        "id": "fosefoRciSNO"
      },
      "id": "fosefoRciSNO"
    },
    {
      "cell_type": "code",
      "source": [
        "from google.colab import output \n",
        "output.enable_custom_widget_manager()"
      ],
      "metadata": {
        "id": "DHXgqEGijvJm"
      },
      "id": "DHXgqEGijvJm",
      "execution_count": 53,
      "outputs": []
    },
    {
      "cell_type": "code",
      "source": [
        "import pandas as pd"
      ],
      "metadata": {
        "id": "VAGd8AVMrCWB"
      },
      "id": "VAGd8AVMrCWB",
      "execution_count": 54,
      "outputs": []
    },
    {
      "cell_type": "code",
      "source": [
        "# Google-Drive einbinden\n",
        "from google.colab import drive\n",
        "drive.mount('/content/drive')"
      ],
      "metadata": {
        "colab": {
          "base_uri": "https://localhost:8080/"
        },
        "id": "3Z7zatPlVmtZ",
        "outputId": "2994c880-e6fd-4f60-d4f6-97498cbd3ca3"
      },
      "id": "3Z7zatPlVmtZ",
      "execution_count": 55,
      "outputs": [
        {
          "output_type": "stream",
          "name": "stdout",
          "text": [
            "Drive already mounted at /content/drive; to attempt to forcibly remount, call drive.mount(\"/content/drive\", force_remount=True).\n"
          ]
        }
      ]
    },
    {
      "cell_type": "code",
      "source": [
        "path = \"/content/drive/MyDrive/DHBW/BI/Daten/Barber/\""
      ],
      "metadata": {
        "id": "ZyiA0qFRVtWA"
      },
      "id": "ZyiA0qFRVtWA",
      "execution_count": 56,
      "outputs": []
    },
    {
      "cell_type": "code",
      "source": [
        "data = pd.read_csv(path+\"shopify_data.csv\", sep=\";\", parse_dates=[\"Datum\"])"
      ],
      "metadata": {
        "id": "iKQgJTtTV1IK"
      },
      "id": "iKQgJTtTV1IK",
      "execution_count": 57,
      "outputs": []
    },
    {
      "cell_type": "code",
      "source": [
        "data.dtypes"
      ],
      "metadata": {
        "colab": {
          "base_uri": "https://localhost:8080/"
        },
        "id": "4WKOk5-XWEg-",
        "outputId": "7c34d3dc-825f-4661-8389-fa0842081035"
      },
      "id": "4WKOk5-XWEg-",
      "execution_count": 58,
      "outputs": [
        {
          "output_type": "execute_result",
          "data": {
            "text/plain": [
              "Datum           datetime64[ns]\n",
              "Bestellung              object\n",
              "Versand Land            object\n",
              "Versandort              object\n",
              "Produkt                 object\n",
              "Nettomenge               int64\n",
              "Bruttoumsatz           float64\n",
              "dtype: object"
            ]
          },
          "metadata": {},
          "execution_count": 58
        }
      ]
    },
    {
      "cell_type": "code",
      "source": [
        "data.head(10)"
      ],
      "metadata": {
        "colab": {
          "base_uri": "https://localhost:8080/",
          "height": 498
        },
        "id": "EJKg4AvfWqiJ",
        "outputId": "34591014-814f-4bfb-8e74-d77aa20da260"
      },
      "id": "EJKg4AvfWqiJ",
      "execution_count": 59,
      "outputs": [
        {
          "output_type": "execute_result",
          "data": {
            "text/plain": [
              "       Datum Bestellung Versand Land                      Versandort  \\\n",
              "0 2020-01-05      #1005      Germany                    Obertshausen   \n",
              "1 2020-01-05      #1007      Germany                      Hellenhahn   \n",
              "2 2020-01-05      #1008      Germany                       Oldenburg   \n",
              "3 2020-01-05      #1012      Germany                        Iserlohn   \n",
              "4 2020-01-05      #1017      Germany                       Buxtehude   \n",
              "5 2020-02-05      #1021      Germany  Bad Dürkheim An Der Weinstraße   \n",
              "6 2020-04-05      #1028      Austria                        Kufstein   \n",
              "7 2020-05-05      #1034      Germany                         Velbert   \n",
              "8 2020-07-05      #1045      Germany                          Piding   \n",
              "9 2020-08-05      #1047      Germany                         Detmold   \n",
              "\n",
              "      Produkt  Nettomenge  Bruttoumsatz  \n",
              "0  Alaunstein           1          7.55  \n",
              "1  Alaunstein           1          7.55  \n",
              "2  Alaunstein           1          7.55  \n",
              "3  Alaunstein           1          8.99  \n",
              "4  Alaunstein           1          7.55  \n",
              "5  Alaunstein           1          8.99  \n",
              "6  Alaunstein           1          9.99  \n",
              "7  Alaunstein           1          8.38  \n",
              "8  Alaunstein           1          8.39  \n",
              "9  Alaunstein           1          8.39  "
            ],
            "text/html": [
              "\n",
              "  <div id=\"df-f5d888da-3b1f-49c2-ace1-f0b852cfb55a\">\n",
              "    <div class=\"colab-df-container\">\n",
              "      <div>\n",
              "<style scoped>\n",
              "    .dataframe tbody tr th:only-of-type {\n",
              "        vertical-align: middle;\n",
              "    }\n",
              "\n",
              "    .dataframe tbody tr th {\n",
              "        vertical-align: top;\n",
              "    }\n",
              "\n",
              "    .dataframe thead th {\n",
              "        text-align: right;\n",
              "    }\n",
              "</style>\n",
              "<table border=\"1\" class=\"dataframe\">\n",
              "  <thead>\n",
              "    <tr style=\"text-align: right;\">\n",
              "      <th></th>\n",
              "      <th>Datum</th>\n",
              "      <th>Bestellung</th>\n",
              "      <th>Versand Land</th>\n",
              "      <th>Versandort</th>\n",
              "      <th>Produkt</th>\n",
              "      <th>Nettomenge</th>\n",
              "      <th>Bruttoumsatz</th>\n",
              "    </tr>\n",
              "  </thead>\n",
              "  <tbody>\n",
              "    <tr>\n",
              "      <th>0</th>\n",
              "      <td>2020-01-05</td>\n",
              "      <td>#1005</td>\n",
              "      <td>Germany</td>\n",
              "      <td>Obertshausen</td>\n",
              "      <td>Alaunstein</td>\n",
              "      <td>1</td>\n",
              "      <td>7.55</td>\n",
              "    </tr>\n",
              "    <tr>\n",
              "      <th>1</th>\n",
              "      <td>2020-01-05</td>\n",
              "      <td>#1007</td>\n",
              "      <td>Germany</td>\n",
              "      <td>Hellenhahn</td>\n",
              "      <td>Alaunstein</td>\n",
              "      <td>1</td>\n",
              "      <td>7.55</td>\n",
              "    </tr>\n",
              "    <tr>\n",
              "      <th>2</th>\n",
              "      <td>2020-01-05</td>\n",
              "      <td>#1008</td>\n",
              "      <td>Germany</td>\n",
              "      <td>Oldenburg</td>\n",
              "      <td>Alaunstein</td>\n",
              "      <td>1</td>\n",
              "      <td>7.55</td>\n",
              "    </tr>\n",
              "    <tr>\n",
              "      <th>3</th>\n",
              "      <td>2020-01-05</td>\n",
              "      <td>#1012</td>\n",
              "      <td>Germany</td>\n",
              "      <td>Iserlohn</td>\n",
              "      <td>Alaunstein</td>\n",
              "      <td>1</td>\n",
              "      <td>8.99</td>\n",
              "    </tr>\n",
              "    <tr>\n",
              "      <th>4</th>\n",
              "      <td>2020-01-05</td>\n",
              "      <td>#1017</td>\n",
              "      <td>Germany</td>\n",
              "      <td>Buxtehude</td>\n",
              "      <td>Alaunstein</td>\n",
              "      <td>1</td>\n",
              "      <td>7.55</td>\n",
              "    </tr>\n",
              "    <tr>\n",
              "      <th>5</th>\n",
              "      <td>2020-02-05</td>\n",
              "      <td>#1021</td>\n",
              "      <td>Germany</td>\n",
              "      <td>Bad Dürkheim An Der Weinstraße</td>\n",
              "      <td>Alaunstein</td>\n",
              "      <td>1</td>\n",
              "      <td>8.99</td>\n",
              "    </tr>\n",
              "    <tr>\n",
              "      <th>6</th>\n",
              "      <td>2020-04-05</td>\n",
              "      <td>#1028</td>\n",
              "      <td>Austria</td>\n",
              "      <td>Kufstein</td>\n",
              "      <td>Alaunstein</td>\n",
              "      <td>1</td>\n",
              "      <td>9.99</td>\n",
              "    </tr>\n",
              "    <tr>\n",
              "      <th>7</th>\n",
              "      <td>2020-05-05</td>\n",
              "      <td>#1034</td>\n",
              "      <td>Germany</td>\n",
              "      <td>Velbert</td>\n",
              "      <td>Alaunstein</td>\n",
              "      <td>1</td>\n",
              "      <td>8.38</td>\n",
              "    </tr>\n",
              "    <tr>\n",
              "      <th>8</th>\n",
              "      <td>2020-07-05</td>\n",
              "      <td>#1045</td>\n",
              "      <td>Germany</td>\n",
              "      <td>Piding</td>\n",
              "      <td>Alaunstein</td>\n",
              "      <td>1</td>\n",
              "      <td>8.39</td>\n",
              "    </tr>\n",
              "    <tr>\n",
              "      <th>9</th>\n",
              "      <td>2020-08-05</td>\n",
              "      <td>#1047</td>\n",
              "      <td>Germany</td>\n",
              "      <td>Detmold</td>\n",
              "      <td>Alaunstein</td>\n",
              "      <td>1</td>\n",
              "      <td>8.39</td>\n",
              "    </tr>\n",
              "  </tbody>\n",
              "</table>\n",
              "</div>\n",
              "      <button class=\"colab-df-convert\" onclick=\"convertToInteractive('df-f5d888da-3b1f-49c2-ace1-f0b852cfb55a')\"\n",
              "              title=\"Convert this dataframe to an interactive table.\"\n",
              "              style=\"display:none;\">\n",
              "        \n",
              "  <svg xmlns=\"http://www.w3.org/2000/svg\" height=\"24px\"viewBox=\"0 0 24 24\"\n",
              "       width=\"24px\">\n",
              "    <path d=\"M0 0h24v24H0V0z\" fill=\"none\"/>\n",
              "    <path d=\"M18.56 5.44l.94 2.06.94-2.06 2.06-.94-2.06-.94-.94-2.06-.94 2.06-2.06.94zm-11 1L8.5 8.5l.94-2.06 2.06-.94-2.06-.94L8.5 2.5l-.94 2.06-2.06.94zm10 10l.94 2.06.94-2.06 2.06-.94-2.06-.94-.94-2.06-.94 2.06-2.06.94z\"/><path d=\"M17.41 7.96l-1.37-1.37c-.4-.4-.92-.59-1.43-.59-.52 0-1.04.2-1.43.59L10.3 9.45l-7.72 7.72c-.78.78-.78 2.05 0 2.83L4 21.41c.39.39.9.59 1.41.59.51 0 1.02-.2 1.41-.59l7.78-7.78 2.81-2.81c.8-.78.8-2.07 0-2.86zM5.41 20L4 18.59l7.72-7.72 1.47 1.35L5.41 20z\"/>\n",
              "  </svg>\n",
              "      </button>\n",
              "      \n",
              "  <style>\n",
              "    .colab-df-container {\n",
              "      display:flex;\n",
              "      flex-wrap:wrap;\n",
              "      gap: 12px;\n",
              "    }\n",
              "\n",
              "    .colab-df-convert {\n",
              "      background-color: #E8F0FE;\n",
              "      border: none;\n",
              "      border-radius: 50%;\n",
              "      cursor: pointer;\n",
              "      display: none;\n",
              "      fill: #1967D2;\n",
              "      height: 32px;\n",
              "      padding: 0 0 0 0;\n",
              "      width: 32px;\n",
              "    }\n",
              "\n",
              "    .colab-df-convert:hover {\n",
              "      background-color: #E2EBFA;\n",
              "      box-shadow: 0px 1px 2px rgba(60, 64, 67, 0.3), 0px 1px 3px 1px rgba(60, 64, 67, 0.15);\n",
              "      fill: #174EA6;\n",
              "    }\n",
              "\n",
              "    [theme=dark] .colab-df-convert {\n",
              "      background-color: #3B4455;\n",
              "      fill: #D2E3FC;\n",
              "    }\n",
              "\n",
              "    [theme=dark] .colab-df-convert:hover {\n",
              "      background-color: #434B5C;\n",
              "      box-shadow: 0px 1px 3px 1px rgba(0, 0, 0, 0.15);\n",
              "      filter: drop-shadow(0px 1px 2px rgba(0, 0, 0, 0.3));\n",
              "      fill: #FFFFFF;\n",
              "    }\n",
              "  </style>\n",
              "\n",
              "      <script>\n",
              "        const buttonEl =\n",
              "          document.querySelector('#df-f5d888da-3b1f-49c2-ace1-f0b852cfb55a button.colab-df-convert');\n",
              "        buttonEl.style.display =\n",
              "          google.colab.kernel.accessAllowed ? 'block' : 'none';\n",
              "\n",
              "        async function convertToInteractive(key) {\n",
              "          const element = document.querySelector('#df-f5d888da-3b1f-49c2-ace1-f0b852cfb55a');\n",
              "          const dataTable =\n",
              "            await google.colab.kernel.invokeFunction('convertToInteractive',\n",
              "                                                     [key], {});\n",
              "          if (!dataTable) return;\n",
              "\n",
              "          const docLinkHtml = 'Like what you see? Visit the ' +\n",
              "            '<a target=\"_blank\" href=https://colab.research.google.com/notebooks/data_table.ipynb>data table notebook</a>'\n",
              "            + ' to learn more about interactive tables.';\n",
              "          element.innerHTML = '';\n",
              "          dataTable['output_type'] = 'display_data';\n",
              "          await google.colab.output.renderOutput(dataTable, element);\n",
              "          const docLink = document.createElement('div');\n",
              "          docLink.innerHTML = docLinkHtml;\n",
              "          element.appendChild(docLink);\n",
              "        }\n",
              "      </script>\n",
              "    </div>\n",
              "  </div>\n",
              "  "
            ]
          },
          "metadata": {},
          "execution_count": 59
        }
      ]
    },
    {
      "cell_type": "markdown",
      "source": [
        "#2 Datenaufbereitung\n",
        "Sie müssen die täglichen Absätze eines Produktes für die nächsten 21 Tage prognostizieren. Die Daten müssen Sie zu diesem Zweck erst aufbereiten. Denken Sie nochmals an das Kapitel, in dem wir Daten gruppiert haben. Die Gruppierung mussen bei dem vorliegenden Problem auf das Datum **und** Produkt erfolgen (tägliche Produktabsätze)."
      ],
      "metadata": {
        "id": "KkHlMAifQF9l"
      },
      "id": "KkHlMAifQF9l"
    },
    {
      "cell_type": "code",
      "source": [
        "# mit reset_index() sind Datum und Produkt wieder Spalten des DataFrames,\n",
        "# der nach der Gruppierung resultiert\n",
        "absatz_tag = data.groupby([\"Datum\",\"Produkt\"]).sum().reset_index()\n",
        "# absatz_tag = data.groupby([\"Datum\",\"Produkt\"])[[\"Nettomenge\",\"Bruttoumsatz\"]].sum().reset_index()"
      ],
      "metadata": {
        "id": "NUl-w6CbEooD"
      },
      "id": "NUl-w6CbEooD",
      "execution_count": 60,
      "outputs": []
    },
    {
      "cell_type": "code",
      "source": [
        "absatz_tag.head()"
      ],
      "metadata": {
        "colab": {
          "base_uri": "https://localhost:8080/",
          "height": 172
        },
        "id": "l7Y2IBKFeKyN",
        "outputId": "2b0be51b-2ba5-43ac-fd14-ae354797f768"
      },
      "id": "l7Y2IBKFeKyN",
      "execution_count": 61,
      "outputs": [
        {
          "output_type": "execute_result",
          "data": {
            "text/plain": [
              "       Datum     Produkt  Nettomenge  Bruttoumsatz\n",
              "0 2020-01-05  Alaunstein           5         39.19\n",
              "1 2020-01-07  Alaunstein           1          8.62\n",
              "2 2020-01-08  Alaunstein           1          8.62\n",
              "3 2020-01-09  Alaunstein           3         25.85\n",
              "4 2020-01-10  Alaunstein           1          8.61"
            ],
            "text/html": [
              "\n",
              "  <div id=\"df-b5e4d978-1de6-49b8-b69e-7eaa8fb01ff2\">\n",
              "    <div class=\"colab-df-container\">\n",
              "      <div>\n",
              "<style scoped>\n",
              "    .dataframe tbody tr th:only-of-type {\n",
              "        vertical-align: middle;\n",
              "    }\n",
              "\n",
              "    .dataframe tbody tr th {\n",
              "        vertical-align: top;\n",
              "    }\n",
              "\n",
              "    .dataframe thead th {\n",
              "        text-align: right;\n",
              "    }\n",
              "</style>\n",
              "<table border=\"1\" class=\"dataframe\">\n",
              "  <thead>\n",
              "    <tr style=\"text-align: right;\">\n",
              "      <th></th>\n",
              "      <th>Datum</th>\n",
              "      <th>Produkt</th>\n",
              "      <th>Nettomenge</th>\n",
              "      <th>Bruttoumsatz</th>\n",
              "    </tr>\n",
              "  </thead>\n",
              "  <tbody>\n",
              "    <tr>\n",
              "      <th>0</th>\n",
              "      <td>2020-01-05</td>\n",
              "      <td>Alaunstein</td>\n",
              "      <td>5</td>\n",
              "      <td>39.19</td>\n",
              "    </tr>\n",
              "    <tr>\n",
              "      <th>1</th>\n",
              "      <td>2020-01-07</td>\n",
              "      <td>Alaunstein</td>\n",
              "      <td>1</td>\n",
              "      <td>8.62</td>\n",
              "    </tr>\n",
              "    <tr>\n",
              "      <th>2</th>\n",
              "      <td>2020-01-08</td>\n",
              "      <td>Alaunstein</td>\n",
              "      <td>1</td>\n",
              "      <td>8.62</td>\n",
              "    </tr>\n",
              "    <tr>\n",
              "      <th>3</th>\n",
              "      <td>2020-01-09</td>\n",
              "      <td>Alaunstein</td>\n",
              "      <td>3</td>\n",
              "      <td>25.85</td>\n",
              "    </tr>\n",
              "    <tr>\n",
              "      <th>4</th>\n",
              "      <td>2020-01-10</td>\n",
              "      <td>Alaunstein</td>\n",
              "      <td>1</td>\n",
              "      <td>8.61</td>\n",
              "    </tr>\n",
              "  </tbody>\n",
              "</table>\n",
              "</div>\n",
              "      <button class=\"colab-df-convert\" onclick=\"convertToInteractive('df-b5e4d978-1de6-49b8-b69e-7eaa8fb01ff2')\"\n",
              "              title=\"Convert this dataframe to an interactive table.\"\n",
              "              style=\"display:none;\">\n",
              "        \n",
              "  <svg xmlns=\"http://www.w3.org/2000/svg\" height=\"24px\"viewBox=\"0 0 24 24\"\n",
              "       width=\"24px\">\n",
              "    <path d=\"M0 0h24v24H0V0z\" fill=\"none\"/>\n",
              "    <path d=\"M18.56 5.44l.94 2.06.94-2.06 2.06-.94-2.06-.94-.94-2.06-.94 2.06-2.06.94zm-11 1L8.5 8.5l.94-2.06 2.06-.94-2.06-.94L8.5 2.5l-.94 2.06-2.06.94zm10 10l.94 2.06.94-2.06 2.06-.94-2.06-.94-.94-2.06-.94 2.06-2.06.94z\"/><path d=\"M17.41 7.96l-1.37-1.37c-.4-.4-.92-.59-1.43-.59-.52 0-1.04.2-1.43.59L10.3 9.45l-7.72 7.72c-.78.78-.78 2.05 0 2.83L4 21.41c.39.39.9.59 1.41.59.51 0 1.02-.2 1.41-.59l7.78-7.78 2.81-2.81c.8-.78.8-2.07 0-2.86zM5.41 20L4 18.59l7.72-7.72 1.47 1.35L5.41 20z\"/>\n",
              "  </svg>\n",
              "      </button>\n",
              "      \n",
              "  <style>\n",
              "    .colab-df-container {\n",
              "      display:flex;\n",
              "      flex-wrap:wrap;\n",
              "      gap: 12px;\n",
              "    }\n",
              "\n",
              "    .colab-df-convert {\n",
              "      background-color: #E8F0FE;\n",
              "      border: none;\n",
              "      border-radius: 50%;\n",
              "      cursor: pointer;\n",
              "      display: none;\n",
              "      fill: #1967D2;\n",
              "      height: 32px;\n",
              "      padding: 0 0 0 0;\n",
              "      width: 32px;\n",
              "    }\n",
              "\n",
              "    .colab-df-convert:hover {\n",
              "      background-color: #E2EBFA;\n",
              "      box-shadow: 0px 1px 2px rgba(60, 64, 67, 0.3), 0px 1px 3px 1px rgba(60, 64, 67, 0.15);\n",
              "      fill: #174EA6;\n",
              "    }\n",
              "\n",
              "    [theme=dark] .colab-df-convert {\n",
              "      background-color: #3B4455;\n",
              "      fill: #D2E3FC;\n",
              "    }\n",
              "\n",
              "    [theme=dark] .colab-df-convert:hover {\n",
              "      background-color: #434B5C;\n",
              "      box-shadow: 0px 1px 3px 1px rgba(0, 0, 0, 0.15);\n",
              "      filter: drop-shadow(0px 1px 2px rgba(0, 0, 0, 0.3));\n",
              "      fill: #FFFFFF;\n",
              "    }\n",
              "  </style>\n",
              "\n",
              "      <script>\n",
              "        const buttonEl =\n",
              "          document.querySelector('#df-b5e4d978-1de6-49b8-b69e-7eaa8fb01ff2 button.colab-df-convert');\n",
              "        buttonEl.style.display =\n",
              "          google.colab.kernel.accessAllowed ? 'block' : 'none';\n",
              "\n",
              "        async function convertToInteractive(key) {\n",
              "          const element = document.querySelector('#df-b5e4d978-1de6-49b8-b69e-7eaa8fb01ff2');\n",
              "          const dataTable =\n",
              "            await google.colab.kernel.invokeFunction('convertToInteractive',\n",
              "                                                     [key], {});\n",
              "          if (!dataTable) return;\n",
              "\n",
              "          const docLinkHtml = 'Like what you see? Visit the ' +\n",
              "            '<a target=\"_blank\" href=https://colab.research.google.com/notebooks/data_table.ipynb>data table notebook</a>'\n",
              "            + ' to learn more about interactive tables.';\n",
              "          element.innerHTML = '';\n",
              "          dataTable['output_type'] = 'display_data';\n",
              "          await google.colab.output.renderOutput(dataTable, element);\n",
              "          const docLink = document.createElement('div');\n",
              "          docLink.innerHTML = docLinkHtml;\n",
              "          element.appendChild(docLink);\n",
              "        }\n",
              "      </script>\n",
              "    </div>\n",
              "  </div>\n",
              "  "
            ]
          },
          "metadata": {},
          "execution_count": 61
        }
      ]
    },
    {
      "cell_type": "markdown",
      "source": [
        "# 3 Datenexploration und -visualisierung\n",
        "Verschaffen Sie sich erst einmal einen Überblick zu den Absatzzahlen (für alle drei Produkte summiert oder je Produkt). Visualisieren Sie beispielsweise den Umsatz über den Zeitverlauf. Erkennen Sie Muster, die typisch für den e-Commerce sind? Wie sieht es mit den Produktpreisen aus? Wurden diese überhaupt variiert und haben diese einen Einfluss auf die Absätze? Achten Sie darauf, dass die Spalte \"Bruttoumsatz\" nicht gleich dem Produktpreis pro Stück ist!"
      ],
      "metadata": {
        "id": "F6l0bN2Di_at"
      },
      "id": "F6l0bN2Di_at"
    },
    {
      "cell_type": "markdown",
      "source": [
        "#### Anzahl Beobachtungen"
      ],
      "metadata": {
        "id": "VOnae2K8HMJ0"
      },
      "id": "VOnae2K8HMJ0"
    },
    {
      "cell_type": "code",
      "source": [
        "absatz_tag.groupby([\"Produkt\"])[\"Nettomenge\"].count()"
      ],
      "metadata": {
        "colab": {
          "base_uri": "https://localhost:8080/"
        },
        "id": "4WAT5GCBHLu0",
        "outputId": "c8314d76-ad87-45a6-fff7-5f1bcc8bf922"
      },
      "id": "4WAT5GCBHLu0",
      "execution_count": 62,
      "outputs": [
        {
          "output_type": "execute_result",
          "data": {
            "text/plain": [
              "Produkt\n",
              "Alaunstein                          801\n",
              "Bartbalm Crusoe                     203\n",
              "Rasierhobel Solingen Stahl - Set    112\n",
              "Name: Nettomenge, dtype: int64"
            ]
          },
          "metadata": {},
          "execution_count": 62
        }
      ]
    },
    {
      "cell_type": "markdown",
      "source": [
        "### Umsätze nach Produkt\n"
      ],
      "metadata": {
        "id": "dUSzRI5n5Tn9"
      },
      "id": "dUSzRI5n5Tn9"
    },
    {
      "cell_type": "code",
      "source": [
        "absatz_tag.groupby([\"Produkt\"])[\"Bruttoumsatz\"].sum()"
      ],
      "metadata": {
        "colab": {
          "base_uri": "https://localhost:8080/"
        },
        "id": "O8e3d8s1lFsI",
        "outputId": "5ceaf0ac-9c65-45a0-e173-111939d3d601"
      },
      "id": "O8e3d8s1lFsI",
      "execution_count": 63,
      "outputs": [
        {
          "output_type": "execute_result",
          "data": {
            "text/plain": [
              "Produkt\n",
              "Alaunstein                          32102.51\n",
              "Bartbalm Crusoe                      8539.43\n",
              "Rasierhobel Solingen Stahl - Set    11899.14\n",
              "Name: Bruttoumsatz, dtype: float64"
            ]
          },
          "metadata": {},
          "execution_count": 63
        }
      ]
    },
    {
      "cell_type": "markdown",
      "source": [
        "### Monatliche Nettomenge (Absatz) der Produkte"
      ],
      "metadata": {
        "id": "tewZZFj75bql"
      },
      "id": "tewZZFj75bql"
    },
    {
      "cell_type": "code",
      "source": [
        "# Bedarfe pro Woche über alle drei Produkte\n",
        "# 1. Schritt: Jahr-Monat aus Spalte Datum ableiten\n",
        "# \"M\" bedeutet Monat\n",
        "absatz_tag[\"Jahr-Monat\"] = absatz_tag[\"Datum\"].dt.to_period(\"M\")"
      ],
      "metadata": {
        "id": "SKeEo1LelCFr"
      },
      "id": "SKeEo1LelCFr",
      "execution_count": 64,
      "outputs": []
    },
    {
      "cell_type": "code",
      "source": [
        "absatz_tag.tail()"
      ],
      "metadata": {
        "colab": {
          "base_uri": "https://localhost:8080/",
          "height": 172
        },
        "id": "H_TIsAqbChOg",
        "outputId": "8b8a96b8-2b02-47ba-c328-7724e1043ad2"
      },
      "id": "H_TIsAqbChOg",
      "execution_count": 65,
      "outputs": [
        {
          "output_type": "execute_result",
          "data": {
            "text/plain": [
              "          Datum                           Produkt  Nettomenge  Bruttoumsatz  \\\n",
              "1111 2022-12-08  Rasierhobel Solingen Stahl - Set           1         75.62   \n",
              "1112 2022-12-09                        Alaunstein           4         33.54   \n",
              "1113 2022-12-09                   Bartbalm Crusoe           1         21.00   \n",
              "1114 2022-12-10                        Alaunstein           2         16.76   \n",
              "1115 2022-12-10  Rasierhobel Solingen Stahl - Set           1         75.62   \n",
              "\n",
              "     Jahr-Monat  \n",
              "1111    2022-12  \n",
              "1112    2022-12  \n",
              "1113    2022-12  \n",
              "1114    2022-12  \n",
              "1115    2022-12  "
            ],
            "text/html": [
              "\n",
              "  <div id=\"df-54ec878b-1047-473b-9392-b32db07e88fc\">\n",
              "    <div class=\"colab-df-container\">\n",
              "      <div>\n",
              "<style scoped>\n",
              "    .dataframe tbody tr th:only-of-type {\n",
              "        vertical-align: middle;\n",
              "    }\n",
              "\n",
              "    .dataframe tbody tr th {\n",
              "        vertical-align: top;\n",
              "    }\n",
              "\n",
              "    .dataframe thead th {\n",
              "        text-align: right;\n",
              "    }\n",
              "</style>\n",
              "<table border=\"1\" class=\"dataframe\">\n",
              "  <thead>\n",
              "    <tr style=\"text-align: right;\">\n",
              "      <th></th>\n",
              "      <th>Datum</th>\n",
              "      <th>Produkt</th>\n",
              "      <th>Nettomenge</th>\n",
              "      <th>Bruttoumsatz</th>\n",
              "      <th>Jahr-Monat</th>\n",
              "    </tr>\n",
              "  </thead>\n",
              "  <tbody>\n",
              "    <tr>\n",
              "      <th>1111</th>\n",
              "      <td>2022-12-08</td>\n",
              "      <td>Rasierhobel Solingen Stahl - Set</td>\n",
              "      <td>1</td>\n",
              "      <td>75.62</td>\n",
              "      <td>2022-12</td>\n",
              "    </tr>\n",
              "    <tr>\n",
              "      <th>1112</th>\n",
              "      <td>2022-12-09</td>\n",
              "      <td>Alaunstein</td>\n",
              "      <td>4</td>\n",
              "      <td>33.54</td>\n",
              "      <td>2022-12</td>\n",
              "    </tr>\n",
              "    <tr>\n",
              "      <th>1113</th>\n",
              "      <td>2022-12-09</td>\n",
              "      <td>Bartbalm Crusoe</td>\n",
              "      <td>1</td>\n",
              "      <td>21.00</td>\n",
              "      <td>2022-12</td>\n",
              "    </tr>\n",
              "    <tr>\n",
              "      <th>1114</th>\n",
              "      <td>2022-12-10</td>\n",
              "      <td>Alaunstein</td>\n",
              "      <td>2</td>\n",
              "      <td>16.76</td>\n",
              "      <td>2022-12</td>\n",
              "    </tr>\n",
              "    <tr>\n",
              "      <th>1115</th>\n",
              "      <td>2022-12-10</td>\n",
              "      <td>Rasierhobel Solingen Stahl - Set</td>\n",
              "      <td>1</td>\n",
              "      <td>75.62</td>\n",
              "      <td>2022-12</td>\n",
              "    </tr>\n",
              "  </tbody>\n",
              "</table>\n",
              "</div>\n",
              "      <button class=\"colab-df-convert\" onclick=\"convertToInteractive('df-54ec878b-1047-473b-9392-b32db07e88fc')\"\n",
              "              title=\"Convert this dataframe to an interactive table.\"\n",
              "              style=\"display:none;\">\n",
              "        \n",
              "  <svg xmlns=\"http://www.w3.org/2000/svg\" height=\"24px\"viewBox=\"0 0 24 24\"\n",
              "       width=\"24px\">\n",
              "    <path d=\"M0 0h24v24H0V0z\" fill=\"none\"/>\n",
              "    <path d=\"M18.56 5.44l.94 2.06.94-2.06 2.06-.94-2.06-.94-.94-2.06-.94 2.06-2.06.94zm-11 1L8.5 8.5l.94-2.06 2.06-.94-2.06-.94L8.5 2.5l-.94 2.06-2.06.94zm10 10l.94 2.06.94-2.06 2.06-.94-2.06-.94-.94-2.06-.94 2.06-2.06.94z\"/><path d=\"M17.41 7.96l-1.37-1.37c-.4-.4-.92-.59-1.43-.59-.52 0-1.04.2-1.43.59L10.3 9.45l-7.72 7.72c-.78.78-.78 2.05 0 2.83L4 21.41c.39.39.9.59 1.41.59.51 0 1.02-.2 1.41-.59l7.78-7.78 2.81-2.81c.8-.78.8-2.07 0-2.86zM5.41 20L4 18.59l7.72-7.72 1.47 1.35L5.41 20z\"/>\n",
              "  </svg>\n",
              "      </button>\n",
              "      \n",
              "  <style>\n",
              "    .colab-df-container {\n",
              "      display:flex;\n",
              "      flex-wrap:wrap;\n",
              "      gap: 12px;\n",
              "    }\n",
              "\n",
              "    .colab-df-convert {\n",
              "      background-color: #E8F0FE;\n",
              "      border: none;\n",
              "      border-radius: 50%;\n",
              "      cursor: pointer;\n",
              "      display: none;\n",
              "      fill: #1967D2;\n",
              "      height: 32px;\n",
              "      padding: 0 0 0 0;\n",
              "      width: 32px;\n",
              "    }\n",
              "\n",
              "    .colab-df-convert:hover {\n",
              "      background-color: #E2EBFA;\n",
              "      box-shadow: 0px 1px 2px rgba(60, 64, 67, 0.3), 0px 1px 3px 1px rgba(60, 64, 67, 0.15);\n",
              "      fill: #174EA6;\n",
              "    }\n",
              "\n",
              "    [theme=dark] .colab-df-convert {\n",
              "      background-color: #3B4455;\n",
              "      fill: #D2E3FC;\n",
              "    }\n",
              "\n",
              "    [theme=dark] .colab-df-convert:hover {\n",
              "      background-color: #434B5C;\n",
              "      box-shadow: 0px 1px 3px 1px rgba(0, 0, 0, 0.15);\n",
              "      filter: drop-shadow(0px 1px 2px rgba(0, 0, 0, 0.3));\n",
              "      fill: #FFFFFF;\n",
              "    }\n",
              "  </style>\n",
              "\n",
              "      <script>\n",
              "        const buttonEl =\n",
              "          document.querySelector('#df-54ec878b-1047-473b-9392-b32db07e88fc button.colab-df-convert');\n",
              "        buttonEl.style.display =\n",
              "          google.colab.kernel.accessAllowed ? 'block' : 'none';\n",
              "\n",
              "        async function convertToInteractive(key) {\n",
              "          const element = document.querySelector('#df-54ec878b-1047-473b-9392-b32db07e88fc');\n",
              "          const dataTable =\n",
              "            await google.colab.kernel.invokeFunction('convertToInteractive',\n",
              "                                                     [key], {});\n",
              "          if (!dataTable) return;\n",
              "\n",
              "          const docLinkHtml = 'Like what you see? Visit the ' +\n",
              "            '<a target=\"_blank\" href=https://colab.research.google.com/notebooks/data_table.ipynb>data table notebook</a>'\n",
              "            + ' to learn more about interactive tables.';\n",
              "          element.innerHTML = '';\n",
              "          dataTable['output_type'] = 'display_data';\n",
              "          await google.colab.output.renderOutput(dataTable, element);\n",
              "          const docLink = document.createElement('div');\n",
              "          docLink.innerHTML = docLinkHtml;\n",
              "          element.appendChild(docLink);\n",
              "        }\n",
              "      </script>\n",
              "    </div>\n",
              "  </div>\n",
              "  "
            ]
          },
          "metadata": {},
          "execution_count": 65
        }
      ]
    },
    {
      "cell_type": "code",
      "source": [
        "# 2. Schritt: Bruttoumsatz auf Monatsscheiben aggregieren\n",
        "monatsumsaetze = absatz_tag.groupby([\"Produkt\",\"Jahr-Monat\"])[\"Nettomenge\"].sum().reset_index()"
      ],
      "metadata": {
        "id": "-2aUu2VIh9qP"
      },
      "id": "-2aUu2VIh9qP",
      "execution_count": 66,
      "outputs": []
    },
    {
      "cell_type": "code",
      "source": [
        "# 3. Schritt: Bruttoumsatz eines Produktes abbilden\n",
        "monatsumsaetze[monatsumsaetze.Produkt==\"Alaunstein\"].plot(kind=\"line\",\n",
        "                                                          x=\"Jahr-Monat\",\n",
        "                                                          y=\"Nettomenge\",\n",
        "                                                          figsize=(8,6),\n",
        "                                                          title=\"Bruttoumsatz Alaunstein\",\n",
        "                                                          ylabel=\"Nettomenge [Stk.]\")"
      ],
      "metadata": {
        "colab": {
          "base_uri": "https://localhost:8080/",
          "height": 430
        },
        "id": "fVHED7P0hhur",
        "outputId": "9046b570-cfa9-4c5f-bc91-14d5a24e04a5"
      },
      "id": "fVHED7P0hhur",
      "execution_count": 67,
      "outputs": [
        {
          "output_type": "execute_result",
          "data": {
            "text/plain": [
              "<matplotlib.axes._subplots.AxesSubplot at 0x7f1c0b0da3d0>"
            ]
          },
          "metadata": {},
          "execution_count": 67
        },
        {
          "output_type": "display_data",
          "data": {
            "text/plain": [
              "<Figure size 576x432 with 1 Axes>"
            ],
            "image/png": "[encoded data removed]"
          },
          "metadata": {
            "needs_background": "light"
          }
        }
      ]
    },
    {
      "cell_type": "code",
      "source": [
        "monatsumsaetze[monatsumsaetze.Produkt==\"Bartbalm Crusoe\"].plot(kind=\"line\", x=\"Jahr-Monat\", y=\"Nettomenge\", figsize=(8,6), title=\"Bartbalm Crusoe\")"
      ],
      "metadata": {
        "colab": {
          "base_uri": "https://localhost:8080/",
          "height": 430
        },
        "id": "rTvmrVp1mb8A",
        "outputId": "1b1e2e32-eb44-49b9-a82d-dc584f129dee"
      },
      "id": "rTvmrVp1mb8A",
      "execution_count": 68,
      "outputs": [
        {
          "output_type": "execute_result",
          "data": {
            "text/plain": [
              "<matplotlib.axes._subplots.AxesSubplot at 0x7f1c0af903a0>"
            ]
          },
          "metadata": {},
          "execution_count": 68
        },
        {
          "output_type": "display_data",
          "data": {
            "text/plain": [
              "<Figure size 576x432 with 1 Axes>"
            ],
            "image/png": "[encoded data removed]"
          },
          "metadata": {
            "needs_background": "light"
          }
        }
      ]
    },
    {
      "cell_type": "markdown",
      "source": [
        "#### Darstellung der Nettomengen je Produkt in einer Abbildung"
      ],
      "metadata": {
        "id": "zVwdk34E5n_W"
      },
      "id": "zVwdk34E5n_W"
    },
    {
      "cell_type": "code",
      "source": [
        "import matplotlib.pyplot as plt\n",
        "# alle Bruttoumsätze in einer Abbildung\n",
        "# 1. Schritt: Spalte zum Index machen (x-Achse)\n",
        "monatsumsaetze.set_index(\"Jahr-Monat\", inplace=True)"
      ],
      "metadata": {
        "id": "uogwInn1ivBp"
      },
      "id": "uogwInn1ivBp",
      "execution_count": 69,
      "outputs": []
    },
    {
      "cell_type": "code",
      "source": [
        "# 2. Schritt: Erzeugen des Abbildungsobjektes\n",
        "fig, ax = plt.subplots(figsize=(8,6))\n",
        "# 3. Schritt: Jeweiliges gruppieren auf Produkte und Übergabe des Abbildungsobjektes \"ax=ax\"\n",
        "for label, df in monatsumsaetze.groupby('Produkt'):\n",
        "    df[\"Nettomenge\"].plot(\n",
        "        kind=\"line\", \n",
        "        ax=ax, \n",
        "        label=label,\n",
        "        ylabel=\"Nettomenge [Stk]\"\n",
        "        )\n",
        "plt.legend()"
      ],
      "metadata": {
        "colab": {
          "base_uri": "https://localhost:8080/",
          "height": 414
        },
        "id": "jdIvcxCwlWrH",
        "outputId": "551c01df-cb6b-4fcf-963a-69fda1cd8a5a"
      },
      "id": "jdIvcxCwlWrH",
      "execution_count": 70,
      "outputs": [
        {
          "output_type": "execute_result",
          "data": {
            "text/plain": [
              "<matplotlib.legend.Legend at 0x7f1c0af24790>"
            ]
          },
          "metadata": {},
          "execution_count": 70
        },
        {
          "output_type": "display_data",
          "data": {
            "text/plain": [
              "<Figure size 576x432 with 1 Axes>"
            ],
            "image/png": "[encoded data removed]"
          },
          "metadata": {
            "needs_background": "light"
          }
        }
      ]
    },
    {
      "cell_type": "markdown",
      "source": [
        "### Umsatz und Nettomenge"
      ],
      "metadata": {
        "id": "fdIXyWvt51Sa"
      },
      "id": "fdIXyWvt51Sa"
    },
    {
      "cell_type": "markdown",
      "source": [
        "#### Nach Monat"
      ],
      "metadata": {
        "id": "rH4OOm7h6nnZ"
      },
      "id": "rH4OOm7h6nnZ"
    },
    {
      "cell_type": "code",
      "source": [
        "absatz_tag[\"Monat\"] = absatz_tag.Datum.dt.month "
      ],
      "metadata": {
        "id": "mVTHGDfUhft9"
      },
      "id": "mVTHGDfUhft9",
      "execution_count": 71,
      "outputs": []
    },
    {
      "cell_type": "code",
      "source": [
        "absatz_tag.groupby(\"Monat\")[\"Bruttoumsatz\"].mean().plot(kind = \"bar\")"
      ],
      "metadata": {
        "colab": {
          "base_uri": "https://localhost:8080/",
          "height": 296
        },
        "id": "5JeYAHmg5_mp",
        "outputId": "4a98775d-e61f-4929-d865-cf704c5c263f"
      },
      "id": "5JeYAHmg5_mp",
      "execution_count": 72,
      "outputs": [
        {
          "output_type": "execute_result",
          "data": {
            "text/plain": [
              "<matplotlib.axes._subplots.AxesSubplot at 0x7f1c0af83160>"
            ]
          },
          "metadata": {},
          "execution_count": 72
        },
        {
          "output_type": "display_data",
          "data": {
            "text/plain": [
              "<Figure size 432x288 with 1 Axes>"
            ],
            "image/png": "[encoded data removed]"
          },
          "metadata": {
            "needs_background": "light"
          }
        }
      ]
    },
    {
      "cell_type": "code",
      "source": [
        "absatz_tag.groupby(\"Monat\")[\"Nettomenge\"].mean().plot(kind = \"bar\")"
      ],
      "metadata": {
        "colab": {
          "base_uri": "https://localhost:8080/",
          "height": 296
        },
        "id": "HcyGWHVB6Qx4",
        "outputId": "90d65026-4dea-460b-9db8-385518464969"
      },
      "id": "HcyGWHVB6Qx4",
      "execution_count": 73,
      "outputs": [
        {
          "output_type": "execute_result",
          "data": {
            "text/plain": [
              "<matplotlib.axes._subplots.AxesSubplot at 0x7f1c0ae203d0>"
            ]
          },
          "metadata": {},
          "execution_count": 73
        },
        {
          "output_type": "display_data",
          "data": {
            "text/plain": [
              "<Figure size 432x288 with 1 Axes>"
            ],
            "image/png": "[encoded data removed]"
          },
          "metadata": {
            "needs_background": "light"
          }
        }
      ]
    },
    {
      "cell_type": "markdown",
      "source": [
        "#### Nach Woche"
      ],
      "metadata": {
        "id": "j2UMdC746rkF"
      },
      "id": "j2UMdC746rkF"
    },
    {
      "cell_type": "code",
      "source": [
        "absatz_tag[\"Woche\"] = absatz_tag.Datum.dt.week "
      ],
      "metadata": {
        "colab": {
          "base_uri": "https://localhost:8080/"
        },
        "id": "2LYyMZxT6WOU",
        "outputId": "09aaf13e-007a-46ae-e47e-14943abe9a23"
      },
      "id": "2LYyMZxT6WOU",
      "execution_count": 74,
      "outputs": [
        {
          "output_type": "stream",
          "name": "stderr",
          "text": [
            "<ipython-input-74-84719c409297>:1: FutureWarning: Series.dt.weekofyear and Series.dt.week have been deprecated.  Please use Series.dt.isocalendar().week instead.\n",
            "  absatz_tag[\"Woche\"] = absatz_tag.Datum.dt.week\n"
          ]
        }
      ]
    },
    {
      "cell_type": "code",
      "source": [
        "absatz_tag.groupby(\"Woche\")[\"Bruttoumsatz\"].mean().plot(kind = \"bar\", figsize=(12,6))"
      ],
      "metadata": {
        "colab": {
          "base_uri": "https://localhost:8080/",
          "height": 389
        },
        "id": "1ee2rQc76xut",
        "outputId": "b31acd13-9a10-4088-d216-27b6f8dd9fa0"
      },
      "id": "1ee2rQc76xut",
      "execution_count": 75,
      "outputs": [
        {
          "output_type": "execute_result",
          "data": {
            "text/plain": [
              "<matplotlib.axes._subplots.AxesSubplot at 0x7f1c0aedb850>"
            ]
          },
          "metadata": {},
          "execution_count": 75
        },
        {
          "output_type": "display_data",
          "data": {
            "text/plain": [
              "<Figure size 864x432 with 1 Axes>"
            ],
            "image/png": "[encoded data removed]"
          },
          "metadata": {
            "needs_background": "light"
          }
        }
      ]
    },
    {
      "cell_type": "code",
      "source": [
        "absatz_tag.groupby(\"Woche\")[\"Nettomenge\"].mean().plot(kind = \"bar\", figsize=(12,6))"
      ],
      "metadata": {
        "colab": {
          "base_uri": "https://localhost:8080/",
          "height": 392
        },
        "id": "SGbG8d7966zk",
        "outputId": "a4338ffd-2edb-4052-e12e-2349c03ccfc5"
      },
      "id": "SGbG8d7966zk",
      "execution_count": 76,
      "outputs": [
        {
          "output_type": "execute_result",
          "data": {
            "text/plain": [
              "<matplotlib.axes._subplots.AxesSubplot at 0x7f1c0ac69d00>"
            ]
          },
          "metadata": {},
          "execution_count": 76
        },
        {
          "output_type": "display_data",
          "data": {
            "text/plain": [
              "<Figure size 864x432 with 1 Axes>"
            ],
            "image/png": "[encoded data removed]"
          },
          "metadata": {
            "needs_background": "light"
          }
        }
      ]
    },
    {
      "cell_type": "markdown",
      "source": [
        "#### Nach Wochentag"
      ],
      "metadata": {
        "id": "739daPoG9AYs"
      },
      "id": "739daPoG9AYs"
    },
    {
      "cell_type": "code",
      "source": [
        "absatz_tag[\"Wochentag\"] = absatz_tag.Datum.dt.weekday"
      ],
      "metadata": {
        "id": "G3BgIYEx9F39"
      },
      "id": "G3BgIYEx9F39",
      "execution_count": 77,
      "outputs": []
    },
    {
      "cell_type": "code",
      "source": [
        "absatz_tag.groupby(\"Wochentag\")[\"Nettomenge\"].mean().plot(kind = \"bar\")"
      ],
      "metadata": {
        "colab": {
          "base_uri": "https://localhost:8080/",
          "height": 290
        },
        "id": "hcBraOYD9Ky_",
        "outputId": "154694e6-9632-454b-ceed-ac10d9a7d845"
      },
      "id": "hcBraOYD9Ky_",
      "execution_count": 78,
      "outputs": [
        {
          "output_type": "execute_result",
          "data": {
            "text/plain": [
              "<matplotlib.axes._subplots.AxesSubplot at 0x7f1c0aba8d60>"
            ]
          },
          "metadata": {},
          "execution_count": 78
        },
        {
          "output_type": "display_data",
          "data": {
            "text/plain": [
              "<Figure size 432x288 with 1 Axes>"
            ],
            "image/png": "[encoded data removed]"
          },
          "metadata": {
            "needs_background": "light"
          }
        }
      ]
    },
    {
      "cell_type": "markdown",
      "source": [
        "### Stückpreis und Absatz nach Woche"
      ],
      "metadata": {
        "id": "6pZ1It8Y9hNB"
      },
      "id": "6pZ1It8Y9hNB"
    },
    {
      "cell_type": "code",
      "source": [
        "absatz_tag[\"Stueckpreis\"] = absatz_tag[\"Bruttoumsatz\"] / absatz_tag[\"Nettomenge\"]"
      ],
      "metadata": {
        "id": "oeU9gnth-Q4t"
      },
      "id": "oeU9gnth-Q4t",
      "execution_count": 79,
      "outputs": []
    },
    {
      "cell_type": "code",
      "source": [
        "absatz_tag[\"Jahr-Woche\"] = absatz_tag[\"Datum\"].dt.to_period(\"W\")"
      ],
      "metadata": {
        "id": "Sj6Gmtes_ZPk"
      },
      "id": "Sj6Gmtes_ZPk",
      "execution_count": 80,
      "outputs": []
    },
    {
      "cell_type": "code",
      "source": [
        "absatz_tag.Produkt.unique()"
      ],
      "metadata": {
        "colab": {
          "base_uri": "https://localhost:8080/"
        },
        "id": "mNo_Wyx0_BMF",
        "outputId": "8b44a2c1-7821-4f58-b859-d1354d00a7bb"
      },
      "id": "mNo_Wyx0_BMF",
      "execution_count": 81,
      "outputs": [
        {
          "output_type": "execute_result",
          "data": {
            "text/plain": [
              "array(['Alaunstein', 'Bartbalm Crusoe',\n",
              "       'Rasierhobel Solingen Stahl - Set'], dtype=object)"
            ]
          },
          "metadata": {},
          "execution_count": 81
        }
      ]
    },
    {
      "cell_type": "code",
      "source": [
        "produkt = \"Alaunstein\""
      ],
      "metadata": {
        "id": "CX21_JqD_APo"
      },
      "id": "CX21_JqD_APo",
      "execution_count": 82,
      "outputs": []
    },
    {
      "cell_type": "code",
      "source": [
        "fig, ax = plt.subplots(figsize=(12,6))\n",
        "# Abbildung zum Preis\n",
        "absatz_tag[absatz_tag.Produkt==produkt].groupby(\"Jahr-Woche\")[\"Stueckpreis\"].mean().plot(kind=\"line\", ax=ax)\n",
        "# Abbildung zur Nettomenge\n",
        "absatz_tag[absatz_tag.Produkt==produkt].groupby(\"Jahr-Woche\")[\"Nettomenge\"].mean().plot(kind=\"line\", ax=ax, title=f\"Nettomenge {produkt}\", ylabel=\"Nettomenge [Stk.]\")\n",
        "plt.legend()"
      ],
      "metadata": {
        "colab": {
          "base_uri": "https://localhost:8080/",
          "height": 408
        },
        "id": "EivfDY6O9oMG",
        "outputId": "ea66d74f-e3eb-437e-986f-97cad259d6fb"
      },
      "id": "EivfDY6O9oMG",
      "execution_count": 83,
      "outputs": [
        {
          "output_type": "execute_result",
          "data": {
            "text/plain": [
              "<matplotlib.legend.Legend at 0x7f1c0aeb7f40>"
            ]
          },
          "metadata": {},
          "execution_count": 83
        },
        {
          "output_type": "display_data",
          "data": {
            "text/plain": [
              "<Figure size 864x432 with 1 Axes>"
            ],
            "image/png": "[encoded data removed]"
          },
          "metadata": {
            "needs_background": "light"
          }
        }
      ]
    },
    {
      "cell_type": "markdown",
      "source": [
        "# 4 Feature Engineering\n",
        "Beim Feature Engineering versucht man weitere Merkmale aus den gegebenen Grunddaten abzuleiten, die bei der Prognose hilfreich sein können. Im vorliegenden Fall bietet es sich beispielsweise an **zeitlichen** und **preislichen Features** abzuleiten.\n",
        "\n",
        "**Zeitliche Features**: Zum Beispiel können wir aus dem Datum die Woche oder den Monat entnehmen. Dies ergibt Sinn, wenn wir vermuten, dass der Monat/ die Woche einen Einfluss auf die Höhe der Absätze hat. Ebenso vorstellbar ist es, eine Trendvariable einzuführen (vgl. Notebook aus der Veranstaltung), die das durchschnittlicher Absatzwachstum des Shops über die Zeit erfasst.\n",
        "\n",
        "**Preisliche Features**: Wir sollten vermutlich den Produktpreis als Feature verwenden. Außerdem könnte es interessant sein, den durchschnittlichen Produktpreis der letzten x-Wochen als Feature zu berücksichtigen, oder die individuellen Preise der letzten x-Wochen."
      ],
      "metadata": {
        "id": "HqFMMBgqvXnO"
      },
      "id": "HqFMMBgqvXnO"
    },
    {
      "cell_type": "code",
      "source": [
        "# aktuelle Spalten (Features)\n",
        "absatz_tag.columns"
      ],
      "metadata": {
        "colab": {
          "base_uri": "https://localhost:8080/"
        },
        "id": "-sxRVBfOISDt",
        "outputId": "53939c4a-7944-4b5d-dd7f-4bb22beeb787"
      },
      "id": "-sxRVBfOISDt",
      "execution_count": 84,
      "outputs": [
        {
          "output_type": "execute_result",
          "data": {
            "text/plain": [
              "Index(['Datum', 'Produkt', 'Nettomenge', 'Bruttoumsatz', 'Jahr-Monat', 'Monat',\n",
              "       'Woche', 'Wochentag', 'Stueckpreis', 'Jahr-Woche'],\n",
              "      dtype='object')"
            ]
          },
          "metadata": {},
          "execution_count": 84
        }
      ]
    },
    {
      "cell_type": "code",
      "source": [
        "# Weitere preisliche Features\n",
        "absatz_tag[\"Preismomentum\"] = absatz_tag.groupby(\"Produkt\")[\"Stueckpreis\"].transform(lambda x: x.median() - x)\n",
        "absatz_tag[\"Preis_rolling_1\"] = absatz_tag.groupby(\"Produkt\")[\"Stueckpreis\"].transform(lambda x: x.shift(1).rolling(1).mean())\n",
        "absatz_tag[\"Preis_rolling_3\"] = absatz_tag.groupby(\"Produkt\")[\"Stueckpreis\"].transform(lambda x: x.shift(1).rolling(3).mean())\n",
        "absatz_tag[\"Preis_rolling_5\"] = absatz_tag.groupby(\"Produkt\")[\"Stueckpreis\"].transform(lambda x: x.shift(1).rolling(5).mean())\n",
        "absatz_tag[\"Preis_rolling_10\"] = absatz_tag.groupby(\"Produkt\")[\"Stueckpreis\"].transform(lambda x: x.shift(1).rolling(10).mean())\n",
        "# es gäbe noch viele mehr"
      ],
      "metadata": {
        "id": "gQJl3WPSAxDz"
      },
      "id": "gQJl3WPSAxDz",
      "execution_count": 85,
      "outputs": []
    },
    {
      "cell_type": "code",
      "source": [
        "absatz_tag.head()"
      ],
      "metadata": {
        "colab": {
          "base_uri": "https://localhost:8080/",
          "height": 460
        },
        "id": "I6I9w7zCCwq4",
        "outputId": "97c94436-bbff-484d-894d-acd0eaf2d4a5"
      },
      "id": "I6I9w7zCCwq4",
      "execution_count": 86,
      "outputs": [
        {
          "output_type": "execute_result",
          "data": {
            "text/plain": [
              "       Datum     Produkt  Nettomenge  Bruttoumsatz Jahr-Monat  Monat  Woche  \\\n",
              "0 2020-01-05  Alaunstein           5         39.19    2020-01      1      1   \n",
              "1 2020-01-07  Alaunstein           1          8.62    2020-01      1      2   \n",
              "2 2020-01-08  Alaunstein           1          8.62    2020-01      1      2   \n",
              "3 2020-01-09  Alaunstein           3         25.85    2020-01      1      2   \n",
              "4 2020-01-10  Alaunstein           1          8.61    2020-01      1      2   \n",
              "\n",
              "   Wochentag  Stueckpreis             Jahr-Woche  Preismomentum  \\\n",
              "0          6     7.838000  2019-12-30/2020-01-05       0.552000   \n",
              "1          1     8.620000  2020-01-06/2020-01-12      -0.230000   \n",
              "2          2     8.620000  2020-01-06/2020-01-12      -0.230000   \n",
              "3          3     8.616667  2020-01-06/2020-01-12      -0.226667   \n",
              "4          4     8.610000  2020-01-06/2020-01-12      -0.220000   \n",
              "\n",
              "   Preis_rolling_1  Preis_rolling_3  Preis_rolling_5  Preis_rolling_10  \n",
              "0              NaN              NaN              NaN               NaN  \n",
              "1         7.838000              NaN              NaN               NaN  \n",
              "2         8.620000              NaN              NaN               NaN  \n",
              "3         8.620000         8.359333              NaN               NaN  \n",
              "4         8.616667         8.618889              NaN               NaN  "
            ],
            "text/html": [
              "\n",
              "  <div id=\"df-90f22273-e843-4350-bb83-f2251d5d88bf\">\n",
              "    <div class=\"colab-df-container\">\n",
              "      <div>\n",
              "<style scoped>\n",
              "    .dataframe tbody tr th:only-of-type {\n",
              "        vertical-align: middle;\n",
              "    }\n",
              "\n",
              "    .dataframe tbody tr th {\n",
              "        vertical-align: top;\n",
              "    }\n",
              "\n",
              "    .dataframe thead th {\n",
              "        text-align: right;\n",
              "    }\n",
              "</style>\n",
              "<table border=\"1\" class=\"dataframe\">\n",
              "  <thead>\n",
              "    <tr style=\"text-align: right;\">\n",
              "      <th></th>\n",
              "      <th>Datum</th>\n",
              "      <th>Produkt</th>\n",
              "      <th>Nettomenge</th>\n",
              "      <th>Bruttoumsatz</th>\n",
              "      <th>Jahr-Monat</th>\n",
              "      <th>Monat</th>\n",
              "      <th>Woche</th>\n",
              "      <th>Wochentag</th>\n",
              "      <th>Stueckpreis</th>\n",
              "      <th>Jahr-Woche</th>\n",
              "      <th>Preismomentum</th>\n",
              "      <th>Preis_rolling_1</th>\n",
              "      <th>Preis_rolling_3</th>\n",
              "      <th>Preis_rolling_5</th>\n",
              "      <th>Preis_rolling_10</th>\n",
              "    </tr>\n",
              "  </thead>\n",
              "  <tbody>\n",
              "    <tr>\n",
              "      <th>0</th>\n",
              "      <td>2020-01-05</td>\n",
              "      <td>Alaunstein</td>\n",
              "      <td>5</td>\n",
              "      <td>39.19</td>\n",
              "      <td>2020-01</td>\n",
              "      <td>1</td>\n",
              "      <td>1</td>\n",
              "      <td>6</td>\n",
              "      <td>7.838000</td>\n",
              "      <td>2019-12-30/2020-01-05</td>\n",
              "      <td>0.552000</td>\n",
              "      <td>NaN</td>\n",
              "      <td>NaN</td>\n",
              "      <td>NaN</td>\n",
              "      <td>NaN</td>\n",
              "    </tr>\n",
              "    <tr>\n",
              "      <th>1</th>\n",
              "      <td>2020-01-07</td>\n",
              "      <td>Alaunstein</td>\n",
              "      <td>1</td>\n",
              "      <td>8.62</td>\n",
              "      <td>2020-01</td>\n",
              "      <td>1</td>\n",
              "      <td>2</td>\n",
              "      <td>1</td>\n",
              "      <td>8.620000</td>\n",
              "      <td>2020-01-06/2020-01-12</td>\n",
              "      <td>-0.230000</td>\n",
              "      <td>7.838000</td>\n",
              "      <td>NaN</td>\n",
              "      <td>NaN</td>\n",
              "      <td>NaN</td>\n",
              "    </tr>\n",
              "    <tr>\n",
              "      <th>2</th>\n",
              "      <td>2020-01-08</td>\n",
              "      <td>Alaunstein</td>\n",
              "      <td>1</td>\n",
              "      <td>8.62</td>\n",
              "      <td>2020-01</td>\n",
              "      <td>1</td>\n",
              "      <td>2</td>\n",
              "      <td>2</td>\n",
              "      <td>8.620000</td>\n",
              "      <td>2020-01-06/2020-01-12</td>\n",
              "      <td>-0.230000</td>\n",
              "      <td>8.620000</td>\n",
              "      <td>NaN</td>\n",
              "      <td>NaN</td>\n",
              "      <td>NaN</td>\n",
              "    </tr>\n",
              "    <tr>\n",
              "      <th>3</th>\n",
              "      <td>2020-01-09</td>\n",
              "      <td>Alaunstein</td>\n",
              "      <td>3</td>\n",
              "      <td>25.85</td>\n",
              "      <td>2020-01</td>\n",
              "      <td>1</td>\n",
              "      <td>2</td>\n",
              "      <td>3</td>\n",
              "      <td>8.616667</td>\n",
              "      <td>2020-01-06/2020-01-12</td>\n",
              "      <td>-0.226667</td>\n",
              "      <td>8.620000</td>\n",
              "      <td>8.359333</td>\n",
              "      <td>NaN</td>\n",
              "      <td>NaN</td>\n",
              "    </tr>\n",
              "    <tr>\n",
              "      <th>4</th>\n",
              "      <td>2020-01-10</td>\n",
              "      <td>Alaunstein</td>\n",
              "      <td>1</td>\n",
              "      <td>8.61</td>\n",
              "      <td>2020-01</td>\n",
              "      <td>1</td>\n",
              "      <td>2</td>\n",
              "      <td>4</td>\n",
              "      <td>8.610000</td>\n",
              "      <td>2020-01-06/2020-01-12</td>\n",
              "      <td>-0.220000</td>\n",
              "      <td>8.616667</td>\n",
              "      <td>8.618889</td>\n",
              "      <td>NaN</td>\n",
              "      <td>NaN</td>\n",
              "    </tr>\n",
              "  </tbody>\n",
              "</table>\n",
              "</div>\n",
              "      <button class=\"colab-df-convert\" onclick=\"convertToInteractive('df-90f22273-e843-4350-bb83-f2251d5d88bf')\"\n",
              "              title=\"Convert this dataframe to an interactive table.\"\n",
              "              style=\"display:none;\">\n",
              "        \n",
              "  <svg xmlns=\"http://www.w3.org/2000/svg\" height=\"24px\"viewBox=\"0 0 24 24\"\n",
              "       width=\"24px\">\n",
              "    <path d=\"M0 0h24v24H0V0z\" fill=\"none\"/>\n",
              "    <path d=\"M18.56 5.44l.94 2.06.94-2.06 2.06-.94-2.06-.94-.94-2.06-.94 2.06-2.06.94zm-11 1L8.5 8.5l.94-2.06 2.06-.94-2.06-.94L8.5 2.5l-.94 2.06-2.06.94zm10 10l.94 2.06.94-2.06 2.06-.94-2.06-.94-.94-2.06-.94 2.06-2.06.94z\"/><path d=\"M17.41 7.96l-1.37-1.37c-.4-.4-.92-.59-1.43-.59-.52 0-1.04.2-1.43.59L10.3 9.45l-7.72 7.72c-.78.78-.78 2.05 0 2.83L4 21.41c.39.39.9.59 1.41.59.51 0 1.02-.2 1.41-.59l7.78-7.78 2.81-2.81c.8-.78.8-2.07 0-2.86zM5.41 20L4 18.59l7.72-7.72 1.47 1.35L5.41 20z\"/>\n",
              "  </svg>\n",
              "      </button>\n",
              "      \n",
              "  <style>\n",
              "    .colab-df-container {\n",
              "      display:flex;\n",
              "      flex-wrap:wrap;\n",
              "      gap: 12px;\n",
              "    }\n",
              "\n",
              "    .colab-df-convert {\n",
              "      background-color: #E8F0FE;\n",
              "      border: none;\n",
              "      border-radius: 50%;\n",
              "      cursor: pointer;\n",
              "      display: none;\n",
              "      fill: #1967D2;\n",
              "      height: 32px;\n",
              "      padding: 0 0 0 0;\n",
              "      width: 32px;\n",
              "    }\n",
              "\n",
              "    .colab-df-convert:hover {\n",
              "      background-color: #E2EBFA;\n",
              "      box-shadow: 0px 1px 2px rgba(60, 64, 67, 0.3), 0px 1px 3px 1px rgba(60, 64, 67, 0.15);\n",
              "      fill: #174EA6;\n",
              "    }\n",
              "\n",
              "    [theme=dark] .colab-df-convert {\n",
              "      background-color: #3B4455;\n",
              "      fill: #D2E3FC;\n",
              "    }\n",
              "\n",
              "    [theme=dark] .colab-df-convert:hover {\n",
              "      background-color: #434B5C;\n",
              "      box-shadow: 0px 1px 3px 1px rgba(0, 0, 0, 0.15);\n",
              "      filter: drop-shadow(0px 1px 2px rgba(0, 0, 0, 0.3));\n",
              "      fill: #FFFFFF;\n",
              "    }\n",
              "  </style>\n",
              "\n",
              "      <script>\n",
              "        const buttonEl =\n",
              "          document.querySelector('#df-90f22273-e843-4350-bb83-f2251d5d88bf button.colab-df-convert');\n",
              "        buttonEl.style.display =\n",
              "          google.colab.kernel.accessAllowed ? 'block' : 'none';\n",
              "\n",
              "        async function convertToInteractive(key) {\n",
              "          const element = document.querySelector('#df-90f22273-e843-4350-bb83-f2251d5d88bf');\n",
              "          const dataTable =\n",
              "            await google.colab.kernel.invokeFunction('convertToInteractive',\n",
              "                                                     [key], {});\n",
              "          if (!dataTable) return;\n",
              "\n",
              "          const docLinkHtml = 'Like what you see? Visit the ' +\n",
              "            '<a target=\"_blank\" href=https://colab.research.google.com/notebooks/data_table.ipynb>data table notebook</a>'\n",
              "            + ' to learn more about interactive tables.';\n",
              "          element.innerHTML = '';\n",
              "          dataTable['output_type'] = 'display_data';\n",
              "          await google.colab.output.renderOutput(dataTable, element);\n",
              "          const docLink = document.createElement('div');\n",
              "          docLink.innerHTML = docLinkHtml;\n",
              "          element.appendChild(docLink);\n",
              "        }\n",
              "      </script>\n",
              "    </div>\n",
              "  </div>\n",
              "  "
            ]
          },
          "metadata": {},
          "execution_count": 86
        }
      ]
    },
    {
      "cell_type": "code",
      "source": [
        "absatz_tag.dropna(inplace=True)"
      ],
      "metadata": {
        "id": "2qVnNuTihNPS"
      },
      "id": "2qVnNuTihNPS",
      "execution_count": 87,
      "outputs": []
    },
    {
      "cell_type": "code",
      "source": [
        "absatz_tag.columns"
      ],
      "metadata": {
        "colab": {
          "base_uri": "https://localhost:8080/"
        },
        "id": "NLQhPHvRTsHH",
        "outputId": "a0623af8-192a-4d3d-d153-a39fb6585b31"
      },
      "id": "NLQhPHvRTsHH",
      "execution_count": 88,
      "outputs": [
        {
          "output_type": "execute_result",
          "data": {
            "text/plain": [
              "Index(['Datum', 'Produkt', 'Nettomenge', 'Bruttoumsatz', 'Jahr-Monat', 'Monat',\n",
              "       'Woche', 'Wochentag', 'Stueckpreis', 'Jahr-Woche', 'Preismomentum',\n",
              "       'Preis_rolling_1', 'Preis_rolling_3', 'Preis_rolling_5',\n",
              "       'Preis_rolling_10'],\n",
              "      dtype='object')"
            ]
          },
          "metadata": {},
          "execution_count": 88
        }
      ]
    },
    {
      "cell_type": "code",
      "source": [
        "FEATURES = [\n",
        "    \"Produkt\",\"Monat\",\"Woche\",\"Wochentag\", \"Stueckpreis\",\n",
        "    'Preismomentum', 'Preis_rolling_5', 'Preis_rolling_10', \n",
        "    'Preis_rolling_1', 'Preis_rolling_3',\n",
        "    ]"
      ],
      "metadata": {
        "id": "bb-u4IP4Ts_T"
      },
      "id": "bb-u4IP4Ts_T",
      "execution_count": 89,
      "outputs": []
    },
    {
      "cell_type": "code",
      "source": [
        "TARGET = \"Nettomenge\""
      ],
      "metadata": {
        "id": "GVeW8NG9UIjz"
      },
      "id": "GVeW8NG9UIjz",
      "execution_count": 90,
      "outputs": []
    },
    {
      "cell_type": "markdown",
      "source": [
        "# 5 Prognosemodell trainieren und bewerten\n",
        "Versuchen Sie ein Modell auf die Daten zu trainieren. Testen Sie verschiedene Modellparameter mithilfe einer Grid Search und Cross-Validation."
      ],
      "metadata": {
        "id": "DPsP-biHvf30"
      },
      "id": "DPsP-biHvf30"
    },
    {
      "cell_type": "markdown",
      "source": [
        "### 5.1 Produkte als Feature (Ein Prognosemodell für alle Produkte)"
      ],
      "metadata": {
        "id": "M8XidCnLWBia"
      },
      "id": "M8XidCnLWBia"
    },
    {
      "cell_type": "code",
      "source": [
        "# Features und target\n",
        "X = absatz_tag[FEATURES]\n",
        "y = absatz_tag[TARGET]"
      ],
      "metadata": {
        "id": "ItBn1zGOvsJj"
      },
      "id": "ItBn1zGOvsJj",
      "execution_count": 91,
      "outputs": []
    },
    {
      "cell_type": "code",
      "source": [
        "X = pd.get_dummies(X)"
      ],
      "metadata": {
        "id": "W545lqHzsNvj"
      },
      "id": "W545lqHzsNvj",
      "execution_count": 92,
      "outputs": []
    },
    {
      "cell_type": "code",
      "source": [
        "X.tail()"
      ],
      "metadata": {
        "colab": {
          "base_uri": "https://localhost:8080/",
          "height": 264
        },
        "id": "QKjDn0C3sWl4",
        "outputId": "00e7f564-b738-443c-dbcb-1cab1fd125b4"
      },
      "id": "QKjDn0C3sWl4",
      "execution_count": 94,
      "outputs": [
        {
          "output_type": "execute_result",
          "data": {
            "text/plain": [
              "      Monat  Woche  Wochentag  Stueckpreis  Preismomentum  Preis_rolling_5  \\\n",
              "1111     12     49          3       75.620          0.000        80.664000   \n",
              "1112     12     49          4        8.385          0.005         8.502089   \n",
              "1113     12     49          4       21.000          0.000        20.160000   \n",
              "1114     12     49          5        8.380          0.010         8.501889   \n",
              "1115     12     49          5       75.620          0.000        80.664000   \n",
              "\n",
              "      Preis_rolling_10  Preis_rolling_1  Preis_rolling_3  Produkt_Alaunstein  \\\n",
              "1111         77.303000           75.620        84.026667                   0   \n",
              "1112          8.445711            8.390         8.581481                   1   \n",
              "1113         20.160000           16.800        19.600000                   0   \n",
              "1114          8.445211            8.385         8.446481                   1   \n",
              "1115         77.303000           75.620        78.423333                   0   \n",
              "\n",
              "      Produkt_Bartbalm Crusoe  Produkt_Rasierhobel Solingen Stahl - Set  \n",
              "1111                        0                                         1  \n",
              "1112                        0                                         0  \n",
              "1113                        1                                         0  \n",
              "1114                        0                                         0  \n",
              "1115                        0                                         1  "
            ],
            "text/html": [
              "\n",
              "  <div id=\"df-916b92b8-a92b-4fc8-b486-0e99ddeda100\">\n",
              "    <div class=\"colab-df-container\">\n",
              "      <div>\n",
              "<style scoped>\n",
              "    .dataframe tbody tr th:only-of-type {\n",
              "        vertical-align: middle;\n",
              "    }\n",
              "\n",
              "    .dataframe tbody tr th {\n",
              "        vertical-align: top;\n",
              "    }\n",
              "\n",
              "    .dataframe thead th {\n",
              "        text-align: right;\n",
              "    }\n",
              "</style>\n",
              "<table border=\"1\" class=\"dataframe\">\n",
              "  <thead>\n",
              "    <tr style=\"text-align: right;\">\n",
              "      <th></th>\n",
              "      <th>Monat</th>\n",
              "      <th>Woche</th>\n",
              "      <th>Wochentag</th>\n",
              "      <th>Stueckpreis</th>\n",
              "      <th>Preismomentum</th>\n",
              "      <th>Preis_rolling_5</th>\n",
              "      <th>Preis_rolling_10</th>\n",
              "      <th>Preis_rolling_1</th>\n",
              "      <th>Preis_rolling_3</th>\n",
              "      <th>Produkt_Alaunstein</th>\n",
              "      <th>Produkt_Bartbalm Crusoe</th>\n",
              "      <th>Produkt_Rasierhobel Solingen Stahl - Set</th>\n",
              "    </tr>\n",
              "  </thead>\n",
              "  <tbody>\n",
              "    <tr>\n",
              "      <th>1111</th>\n",
              "      <td>12</td>\n",
              "      <td>49</td>\n",
              "      <td>3</td>\n",
              "      <td>75.620</td>\n",
              "      <td>0.000</td>\n",
              "      <td>80.664000</td>\n",
              "      <td>77.303000</td>\n",
              "      <td>75.620</td>\n",
              "      <td>84.026667</td>\n",
              "      <td>0</td>\n",
              "      <td>0</td>\n",
              "      <td>1</td>\n",
              "    </tr>\n",
              "    <tr>\n",
              "      <th>1112</th>\n",
              "      <td>12</td>\n",
              "      <td>49</td>\n",
              "      <td>4</td>\n",
              "      <td>8.385</td>\n",
              "      <td>0.005</td>\n",
              "      <td>8.502089</td>\n",
              "      <td>8.445711</td>\n",
              "      <td>8.390</td>\n",
              "      <td>8.581481</td>\n",
              "      <td>1</td>\n",
              "      <td>0</td>\n",
              "      <td>0</td>\n",
              "    </tr>\n",
              "    <tr>\n",
              "      <th>1113</th>\n",
              "      <td>12</td>\n",
              "      <td>49</td>\n",
              "      <td>4</td>\n",
              "      <td>21.000</td>\n",
              "      <td>0.000</td>\n",
              "      <td>20.160000</td>\n",
              "      <td>20.160000</td>\n",
              "      <td>16.800</td>\n",
              "      <td>19.600000</td>\n",
              "      <td>0</td>\n",
              "      <td>1</td>\n",
              "      <td>0</td>\n",
              "    </tr>\n",
              "    <tr>\n",
              "      <th>1114</th>\n",
              "      <td>12</td>\n",
              "      <td>49</td>\n",
              "      <td>5</td>\n",
              "      <td>8.380</td>\n",
              "      <td>0.010</td>\n",
              "      <td>8.501889</td>\n",
              "      <td>8.445211</td>\n",
              "      <td>8.385</td>\n",
              "      <td>8.446481</td>\n",
              "      <td>1</td>\n",
              "      <td>0</td>\n",
              "      <td>0</td>\n",
              "    </tr>\n",
              "    <tr>\n",
              "      <th>1115</th>\n",
              "      <td>12</td>\n",
              "      <td>49</td>\n",
              "      <td>5</td>\n",
              "      <td>75.620</td>\n",
              "      <td>0.000</td>\n",
              "      <td>80.664000</td>\n",
              "      <td>77.303000</td>\n",
              "      <td>75.620</td>\n",
              "      <td>78.423333</td>\n",
              "      <td>0</td>\n",
              "      <td>0</td>\n",
              "      <td>1</td>\n",
              "    </tr>\n",
              "  </tbody>\n",
              "</table>\n",
              "</div>\n",
              "      <button class=\"colab-df-convert\" onclick=\"convertToInteractive('df-916b92b8-a92b-4fc8-b486-0e99ddeda100')\"\n",
              "              title=\"Convert this dataframe to an interactive table.\"\n",
              "              style=\"display:none;\">\n",
              "        \n",
              "  <svg xmlns=\"http://www.w3.org/2000/svg\" height=\"24px\"viewBox=\"0 0 24 24\"\n",
              "       width=\"24px\">\n",
              "    <path d=\"M0 0h24v24H0V0z\" fill=\"none\"/>\n",
              "    <path d=\"M18.56 5.44l.94 2.06.94-2.06 2.06-.94-2.06-.94-.94-2.06-.94 2.06-2.06.94zm-11 1L8.5 8.5l.94-2.06 2.06-.94-2.06-.94L8.5 2.5l-.94 2.06-2.06.94zm10 10l.94 2.06.94-2.06 2.06-.94-2.06-.94-.94-2.06-.94 2.06-2.06.94z\"/><path d=\"M17.41 7.96l-1.37-1.37c-.4-.4-.92-.59-1.43-.59-.52 0-1.04.2-1.43.59L10.3 9.45l-7.72 7.72c-.78.78-.78 2.05 0 2.83L4 21.41c.39.39.9.59 1.41.59.51 0 1.02-.2 1.41-.59l7.78-7.78 2.81-2.81c.8-.78.8-2.07 0-2.86zM5.41 20L4 18.59l7.72-7.72 1.47 1.35L5.41 20z\"/>\n",
              "  </svg>\n",
              "      </button>\n",
              "      \n",
              "  <style>\n",
              "    .colab-df-container {\n",
              "      display:flex;\n",
              "      flex-wrap:wrap;\n",
              "      gap: 12px;\n",
              "    }\n",
              "\n",
              "    .colab-df-convert {\n",
              "      background-color: #E8F0FE;\n",
              "      border: none;\n",
              "      border-radius: 50%;\n",
              "      cursor: pointer;\n",
              "      display: none;\n",
              "      fill: #1967D2;\n",
              "      height: 32px;\n",
              "      padding: 0 0 0 0;\n",
              "      width: 32px;\n",
              "    }\n",
              "\n",
              "    .colab-df-convert:hover {\n",
              "      background-color: #E2EBFA;\n",
              "      box-shadow: 0px 1px 2px rgba(60, 64, 67, 0.3), 0px 1px 3px 1px rgba(60, 64, 67, 0.15);\n",
              "      fill: #174EA6;\n",
              "    }\n",
              "\n",
              "    [theme=dark] .colab-df-convert {\n",
              "      background-color: #3B4455;\n",
              "      fill: #D2E3FC;\n",
              "    }\n",
              "\n",
              "    [theme=dark] .colab-df-convert:hover {\n",
              "      background-color: #434B5C;\n",
              "      box-shadow: 0px 1px 3px 1px rgba(0, 0, 0, 0.15);\n",
              "      filter: drop-shadow(0px 1px 2px rgba(0, 0, 0, 0.3));\n",
              "      fill: #FFFFFF;\n",
              "    }\n",
              "  </style>\n",
              "\n",
              "      <script>\n",
              "        const buttonEl =\n",
              "          document.querySelector('#df-916b92b8-a92b-4fc8-b486-0e99ddeda100 button.colab-df-convert');\n",
              "        buttonEl.style.display =\n",
              "          google.colab.kernel.accessAllowed ? 'block' : 'none';\n",
              "\n",
              "        async function convertToInteractive(key) {\n",
              "          const element = document.querySelector('#df-916b92b8-a92b-4fc8-b486-0e99ddeda100');\n",
              "          const dataTable =\n",
              "            await google.colab.kernel.invokeFunction('convertToInteractive',\n",
              "                                                     [key], {});\n",
              "          if (!dataTable) return;\n",
              "\n",
              "          const docLinkHtml = 'Like what you see? Visit the ' +\n",
              "            '<a target=\"_blank\" href=https://colab.research.google.com/notebooks/data_table.ipynb>data table notebook</a>'\n",
              "            + ' to learn more about interactive tables.';\n",
              "          element.innerHTML = '';\n",
              "          dataTable['output_type'] = 'display_data';\n",
              "          await google.colab.output.renderOutput(dataTable, element);\n",
              "          const docLink = document.createElement('div');\n",
              "          docLink.innerHTML = docLinkHtml;\n",
              "          element.appendChild(docLink);\n",
              "        }\n",
              "      </script>\n",
              "    </div>\n",
              "  </div>\n",
              "  "
            ]
          },
          "metadata": {},
          "execution_count": 94
        }
      ]
    },
    {
      "cell_type": "code",
      "source": [
        "from sklearn.ensemble import RandomForestRegressor\n",
        "from sklearn.model_selection import train_test_split\n",
        "import sklearn.metrics\n",
        "from sklearn.model_selection import GridSearchCV"
      ],
      "metadata": {
        "id": "D5uIN8ZDxc_8"
      },
      "id": "D5uIN8ZDxc_8",
      "execution_count": 95,
      "outputs": []
    },
    {
      "cell_type": "code",
      "source": [
        "# Grid definieren\n",
        "param_grid = {\n",
        "    \"n_estimators\": [50, 150, 250, 500] # Anzahl der Entscheidungsbäume\n",
        "}"
      ],
      "metadata": {
        "id": "Y6ocazcCydcf"
      },
      "id": "Y6ocazcCydcf",
      "execution_count": 96,
      "outputs": []
    },
    {
      "cell_type": "code",
      "source": [
        "# Train Test Split\n",
        "X_train, X_test, y_train, y_test = train_test_split(X, y, test_size=0.2, random_state=3)\n",
        "# Modell auswählen und trainieren\n",
        "model = RandomForestRegressor()\n",
        "grid = GridSearchCV(\n",
        "    model, # verwendetes Modell\n",
        "    param_grid, # zu untersuchende Parameter\n",
        "    cv=10, # Anzahl der Folds\n",
        "    n_jobs=-1, # Parallelisierung der Ausführung\n",
        "    scoring=\"neg_mean_squared_error\", # Fehlermaß\n",
        ")\n",
        "grid.fit(X_train, y_train)\n",
        "best_model = grid.best_estimator_\n",
        "# Prognosen machen (y_pred)\n",
        "y_pred = best_model.predict(X_test)\n",
        "# Modell evaluieren\n",
        "sklearn.metrics.mean_absolute_error(y_test, y_pred)"
      ],
      "metadata": {
        "colab": {
          "base_uri": "https://localhost:8080/"
        },
        "id": "onn40HkjxVVr",
        "outputId": "3260225f-82e1-4053-9b09-f0e454622f37"
      },
      "id": "onn40HkjxVVr",
      "execution_count": 99,
      "outputs": [
        {
          "output_type": "execute_result",
          "data": {
            "text/plain": [
              "1.5540642201834862"
            ]
          },
          "metadata": {},
          "execution_count": 99
        }
      ]
    },
    {
      "cell_type": "markdown",
      "source": [
        "### 5.2. Ein Modell je Produkt"
      ],
      "metadata": {
        "id": "flBiZq73WH0j"
      },
      "id": "flBiZq73WH0j"
    },
    {
      "cell_type": "code",
      "source": [
        "for produkt in absatz_tag[\"Produkt\"].unique():\n",
        "  # Modell trainieren und anwenden pro Produkt"
      ],
      "metadata": {
        "colab": {
          "base_uri": "https://localhost:8080/"
        },
        "id": "dhoH5By6Pg4t",
        "outputId": "86704f4e-b716-4d7f-bb2a-2424f9cbad49"
      },
      "id": "dhoH5By6Pg4t",
      "execution_count": 102,
      "outputs": [
        {
          "output_type": "stream",
          "name": "stdout",
          "text": [
            "Alaunstein\n",
            "Bartbalm Crusoe\n",
            "Rasierhobel Solingen Stahl - Set\n"
          ]
        }
      ]
    },
    {
      "cell_type": "code",
      "source": [
        "absatz_tag.loc[absatz_tag.Produkt==\"Alaunstein\", FEATURES].head()"
      ],
      "metadata": {
        "colab": {
          "base_uri": "https://localhost:8080/",
          "height": 236
        },
        "id": "5c9osCskQiJi",
        "outputId": "607ae86b-40ef-4e1a-9b10-efb8774bb832"
      },
      "id": "5c9osCskQiJi",
      "execution_count": 105,
      "outputs": [
        {
          "output_type": "execute_result",
          "data": {
            "text/plain": [
              "       Produkt  Monat  Woche  Wochentag  Stueckpreis  Preismomentum  \\\n",
              "10  Alaunstein      2      7          1        8.610         -0.220   \n",
              "11  Alaunstein      2      7          2        8.610         -0.220   \n",
              "12  Alaunstein      3     10          5        8.615         -0.225   \n",
              "13  Alaunstein      3     10          6        8.620         -0.230   \n",
              "14  Alaunstein      3     11          0        8.615         -0.225   \n",
              "\n",
              "    Preis_rolling_5  Preis_rolling_10  Preis_rolling_1  Preis_rolling_3  \n",
              "10            8.686          8.573467            8.610         8.736667  \n",
              "11            8.686          8.650667            8.610         8.610000  \n",
              "12            8.686          8.649667            8.610         8.610000  \n",
              "13            8.611          8.649167            8.615         8.611667  \n",
              "14            8.613          8.649500            8.620         8.615000  "
            ],
            "text/html": [
              "\n",
              "  <div id=\"df-f95f18a8-ebc7-49aa-82d8-6efb8335eb3f\">\n",
              "    <div class=\"colab-df-container\">\n",
              "      <div>\n",
              "<style scoped>\n",
              "    .dataframe tbody tr th:only-of-type {\n",
              "        vertical-align: middle;\n",
              "    }\n",
              "\n",
              "    .dataframe tbody tr th {\n",
              "        vertical-align: top;\n",
              "    }\n",
              "\n",
              "    .dataframe thead th {\n",
              "        text-align: right;\n",
              "    }\n",
              "</style>\n",
              "<table border=\"1\" class=\"dataframe\">\n",
              "  <thead>\n",
              "    <tr style=\"text-align: right;\">\n",
              "      <th></th>\n",
              "      <th>Produkt</th>\n",
              "      <th>Monat</th>\n",
              "      <th>Woche</th>\n",
              "      <th>Wochentag</th>\n",
              "      <th>Stueckpreis</th>\n",
              "      <th>Preismomentum</th>\n",
              "      <th>Preis_rolling_5</th>\n",
              "      <th>Preis_rolling_10</th>\n",
              "      <th>Preis_rolling_1</th>\n",
              "      <th>Preis_rolling_3</th>\n",
              "    </tr>\n",
              "  </thead>\n",
              "  <tbody>\n",
              "    <tr>\n",
              "      <th>10</th>\n",
              "      <td>Alaunstein</td>\n",
              "      <td>2</td>\n",
              "      <td>7</td>\n",
              "      <td>1</td>\n",
              "      <td>8.610</td>\n",
              "      <td>-0.220</td>\n",
              "      <td>8.686</td>\n",
              "      <td>8.573467</td>\n",
              "      <td>8.610</td>\n",
              "      <td>8.736667</td>\n",
              "    </tr>\n",
              "    <tr>\n",
              "      <th>11</th>\n",
              "      <td>Alaunstein</td>\n",
              "      <td>2</td>\n",
              "      <td>7</td>\n",
              "      <td>2</td>\n",
              "      <td>8.610</td>\n",
              "      <td>-0.220</td>\n",
              "      <td>8.686</td>\n",
              "      <td>8.650667</td>\n",
              "      <td>8.610</td>\n",
              "      <td>8.610000</td>\n",
              "    </tr>\n",
              "    <tr>\n",
              "      <th>12</th>\n",
              "      <td>Alaunstein</td>\n",
              "      <td>3</td>\n",
              "      <td>10</td>\n",
              "      <td>5</td>\n",
              "      <td>8.615</td>\n",
              "      <td>-0.225</td>\n",
              "      <td>8.686</td>\n",
              "      <td>8.649667</td>\n",
              "      <td>8.610</td>\n",
              "      <td>8.610000</td>\n",
              "    </tr>\n",
              "    <tr>\n",
              "      <th>13</th>\n",
              "      <td>Alaunstein</td>\n",
              "      <td>3</td>\n",
              "      <td>10</td>\n",
              "      <td>6</td>\n",
              "      <td>8.620</td>\n",
              "      <td>-0.230</td>\n",
              "      <td>8.611</td>\n",
              "      <td>8.649167</td>\n",
              "      <td>8.615</td>\n",
              "      <td>8.611667</td>\n",
              "    </tr>\n",
              "    <tr>\n",
              "      <th>14</th>\n",
              "      <td>Alaunstein</td>\n",
              "      <td>3</td>\n",
              "      <td>11</td>\n",
              "      <td>0</td>\n",
              "      <td>8.615</td>\n",
              "      <td>-0.225</td>\n",
              "      <td>8.613</td>\n",
              "      <td>8.649500</td>\n",
              "      <td>8.620</td>\n",
              "      <td>8.615000</td>\n",
              "    </tr>\n",
              "  </tbody>\n",
              "</table>\n",
              "</div>\n",
              "      <button class=\"colab-df-convert\" onclick=\"convertToInteractive('df-f95f18a8-ebc7-49aa-82d8-6efb8335eb3f')\"\n",
              "              title=\"Convert this dataframe to an interactive table.\"\n",
              "              style=\"display:none;\">\n",
              "        \n",
              "  <svg xmlns=\"http://www.w3.org/2000/svg\" height=\"24px\"viewBox=\"0 0 24 24\"\n",
              "       width=\"24px\">\n",
              "    <path d=\"M0 0h24v24H0V0z\" fill=\"none\"/>\n",
              "    <path d=\"M18.56 5.44l.94 2.06.94-2.06 2.06-.94-2.06-.94-.94-2.06-.94 2.06-2.06.94zm-11 1L8.5 8.5l.94-2.06 2.06-.94-2.06-.94L8.5 2.5l-.94 2.06-2.06.94zm10 10l.94 2.06.94-2.06 2.06-.94-2.06-.94-.94-2.06-.94 2.06-2.06.94z\"/><path d=\"M17.41 7.96l-1.37-1.37c-.4-.4-.92-.59-1.43-.59-.52 0-1.04.2-1.43.59L10.3 9.45l-7.72 7.72c-.78.78-.78 2.05 0 2.83L4 21.41c.39.39.9.59 1.41.59.51 0 1.02-.2 1.41-.59l7.78-7.78 2.81-2.81c.8-.78.8-2.07 0-2.86zM5.41 20L4 18.59l7.72-7.72 1.47 1.35L5.41 20z\"/>\n",
              "  </svg>\n",
              "      </button>\n",
              "      \n",
              "  <style>\n",
              "    .colab-df-container {\n",
              "      display:flex;\n",
              "      flex-wrap:wrap;\n",
              "      gap: 12px;\n",
              "    }\n",
              "\n",
              "    .colab-df-convert {\n",
              "      background-color: #E8F0FE;\n",
              "      border: none;\n",
              "      border-radius: 50%;\n",
              "      cursor: pointer;\n",
              "      display: none;\n",
              "      fill: #1967D2;\n",
              "      height: 32px;\n",
              "      padding: 0 0 0 0;\n",
              "      width: 32px;\n",
              "    }\n",
              "\n",
              "    .colab-df-convert:hover {\n",
              "      background-color: #E2EBFA;\n",
              "      box-shadow: 0px 1px 2px rgba(60, 64, 67, 0.3), 0px 1px 3px 1px rgba(60, 64, 67, 0.15);\n",
              "      fill: #174EA6;\n",
              "    }\n",
              "\n",
              "    [theme=dark] .colab-df-convert {\n",
              "      background-color: #3B4455;\n",
              "      fill: #D2E3FC;\n",
              "    }\n",
              "\n",
              "    [theme=dark] .colab-df-convert:hover {\n",
              "      background-color: #434B5C;\n",
              "      box-shadow: 0px 1px 3px 1px rgba(0, 0, 0, 0.15);\n",
              "      filter: drop-shadow(0px 1px 2px rgba(0, 0, 0, 0.3));\n",
              "      fill: #FFFFFF;\n",
              "    }\n",
              "  </style>\n",
              "\n",
              "      <script>\n",
              "        const buttonEl =\n",
              "          document.querySelector('#df-f95f18a8-ebc7-49aa-82d8-6efb8335eb3f button.colab-df-convert');\n",
              "        buttonEl.style.display =\n",
              "          google.colab.kernel.accessAllowed ? 'block' : 'none';\n",
              "\n",
              "        async function convertToInteractive(key) {\n",
              "          const element = document.querySelector('#df-f95f18a8-ebc7-49aa-82d8-6efb8335eb3f');\n",
              "          const dataTable =\n",
              "            await google.colab.kernel.invokeFunction('convertToInteractive',\n",
              "                                                     [key], {});\n",
              "          if (!dataTable) return;\n",
              "\n",
              "          const docLinkHtml = 'Like what you see? Visit the ' +\n",
              "            '<a target=\"_blank\" href=https://colab.research.google.com/notebooks/data_table.ipynb>data table notebook</a>'\n",
              "            + ' to learn more about interactive tables.';\n",
              "          element.innerHTML = '';\n",
              "          dataTable['output_type'] = 'display_data';\n",
              "          await google.colab.output.renderOutput(dataTable, element);\n",
              "          const docLink = document.createElement('div');\n",
              "          docLink.innerHTML = docLinkHtml;\n",
              "          element.appendChild(docLink);\n",
              "        }\n",
              "      </script>\n",
              "    </div>\n",
              "  </div>\n",
              "  "
            ]
          },
          "metadata": {},
          "execution_count": 105
        }
      ]
    },
    {
      "cell_type": "code",
      "source": [
        "ergebnis = {}\n",
        "for produkt in absatz_tag.Produkt.unique():\n",
        "  X = absatz_tag.loc[absatz_tag.Produkt==produkt, FEATURES].drop(columns=[\"Produkt\"])\n",
        "  y = absatz_tag.loc[absatz_tag.Produkt==produkt, TARGET]\n",
        "  X = pd.get_dummies(X)\n",
        "\n",
        "  # Grid definieren\n",
        "  param_grid = {\n",
        "      \"n_estimators\": [50, 150, 250, 500] # Anzahl der Entscheidungsbäume\n",
        "  }\n",
        "  # Train Test Split\n",
        "  X_train, X_test, y_train, y_test = train_test_split(X, y, test_size=0.2, random_state=3)\n",
        "  # Modell auswählen und trainieren\n",
        "  model = RandomForestRegressor()\n",
        "  grid = GridSearchCV(\n",
        "      model, # verwendetes Modell\n",
        "      param_grid, # zu untersuchende Parameter\n",
        "      cv=10, # Anzahl der Folds\n",
        "      n_jobs=-1, # Parallelisierung der Ausführung\n",
        "      scoring=\"neg_mean_squared_error\", # Fehlermaß\n",
        "  )\n",
        "  grid.fit(X_train, y_train)\n",
        "  best_model = grid.best_estimator_\n",
        "  # Prognosen machen (y_pred)\n",
        "  y_pred = best_model.predict(X_test)\n",
        "  # Modell evaluieren\n",
        "  ergebnis[produkt] = sklearn.metrics.mean_absolute_error(y_test, y_pred)"
      ],
      "metadata": {
        "id": "amAqTuU6WKMz"
      },
      "id": "amAqTuU6WKMz",
      "execution_count": 106,
      "outputs": []
    },
    {
      "cell_type": "code",
      "source": [
        "ergebnis"
      ],
      "metadata": {
        "colab": {
          "base_uri": "https://localhost:8080/"
        },
        "id": "DGNKDqfvXXcO",
        "outputId": "cb75e739-9485-479a-e934-9a989fc9c289"
      },
      "id": "DGNKDqfvXXcO",
      "execution_count": 107,
      "outputs": [
        {
          "output_type": "execute_result",
          "data": {
            "text/plain": [
              "{'Alaunstein': 2.2235639412997905,\n",
              " 'Bartbalm Crusoe': 0.9955555555555556,\n",
              " 'Rasierhobel Solingen Stahl - Set': 0.3678095238095238}"
            ]
          },
          "metadata": {},
          "execution_count": 107
        }
      ]
    },
    {
      "cell_type": "markdown",
      "source": [
        "# 6 Prognosemodell unter Berücksichtigung der Zeitreiheneigenschaft"
      ],
      "metadata": {
        "id": "M3QUVe-hvs8Y"
      },
      "id": "M3QUVe-hvs8Y"
    },
    {
      "cell_type": "code",
      "source": [
        "absatz_tag.sort_values(by=\"Datum\", inplace=True)"
      ],
      "metadata": {
        "id": "LZtpODRMTwSK"
      },
      "id": "LZtpODRMTwSK",
      "execution_count": 882,
      "outputs": []
    },
    {
      "cell_type": "code",
      "source": [
        "PROGNOSEHORIZONT = 21 # Prognose für die nächsten 21 Tage"
      ],
      "metadata": {
        "id": "GlAnTLkJSTMW"
      },
      "id": "GlAnTLkJSTMW",
      "execution_count": 109,
      "outputs": []
    },
    {
      "cell_type": "code",
      "source": [
        "absolut_error = {}\n",
        "absolut_percentage_error = {}\n",
        "for produkt in absatz_tag.Produkt.unique():\n",
        "  # 1. Schritt: Daten auf Produkt filtern\n",
        "  X = absatz_tag.loc[absatz_tag.Produkt==produkt, FEATURES].drop(columns=\"Produkt\")\n",
        "  y = absatz_tag.loc[absatz_tag.Produkt==produkt, TARGET]\n",
        "\n",
        "  # 2. Schritt: Daten umwandeln\n",
        "  X = pd.get_dummies(X)\n",
        "  \n",
        "  # 3. Schritt: Zeitlicher Split (Prognose für die nächsten 21 Tage)\n",
        "  X_train = X[:-PROGNOSEHORIZONT]\n",
        "  y_train = y[:-PROGNOSEHORIZONT]\n",
        "  X_test = X[-PROGNOSEHORIZONT:]\n",
        "  y_test = y[-PROGNOSEHORIZONT:]\n",
        "\n",
        "  # Grid definieren\n",
        "  param_grid = {\n",
        "      \"n_estimators\": [50, 150, 250, 500] # Anzahl der Entscheidungsbäume\n",
        "  }\n",
        "  # Modell auswählen und trainieren\n",
        "  model = RandomForestRegressor()\n",
        "  grid = GridSearchCV(\n",
        "      model, # verwendetes Modell\n",
        "      param_grid, # zu untersuchende Parameter\n",
        "      cv=10, # Anzahl der Folds\n",
        "      n_jobs=-1, # Parallelisierung der Ausführung\n",
        "      scoring=\"neg_mean_squared_error\", # Fehlermaß\n",
        "  )\n",
        "  grid.fit(X_train, y_train)\n",
        "  best_model = grid.best_estimator_\n",
        "  # Prognosen machen (y_pred)\n",
        "  y_pred = best_model.predict(X_test)\n",
        "  # Ergebnisse für 21 Tage Nettomenge summiert\n",
        "  absolut_error[produkt] = abs(y_test.sum() - y_pred.sum())\n",
        "  absolut_percentage_error[produkt] = abs(y_test.sum() - y_pred.sum())/y_test.sum() * 100"
      ],
      "metadata": {
        "id": "uGQeTMf6ValO"
      },
      "id": "uGQeTMf6ValO",
      "execution_count": 111,
      "outputs": []
    },
    {
      "cell_type": "code",
      "source": [
        "absolut_error"
      ],
      "metadata": {
        "colab": {
          "base_uri": "https://localhost:8080/"
        },
        "id": "HikOwIkKYI7b",
        "outputId": "1e7c74e2-9b5d-4496-ba52-9f5124cdeeaa"
      },
      "id": "HikOwIkKYI7b",
      "execution_count": 903,
      "outputs": [
        {
          "output_type": "execute_result",
          "data": {
            "text/plain": [
              "{'Alaunstein': 8.75333333333333,\n",
              " 'Bartbalm Crusoe': 11.14,\n",
              " 'Rasierhobel Solingen Stahl - Set': 1.806000000000001}"
            ]
          },
          "metadata": {},
          "execution_count": 903
        }
      ]
    },
    {
      "cell_type": "code",
      "source": [
        "absolut_percentage_error"
      ],
      "metadata": {
        "colab": {
          "base_uri": "https://localhost:8080/"
        },
        "id": "YOl6jaIhXWBE",
        "outputId": "ca1e6bbd-a972-4e78-9128-be5981cf5406"
      },
      "id": "YOl6jaIhXWBE",
      "execution_count": 905,
      "outputs": [
        {
          "output_type": "execute_result",
          "data": {
            "text/plain": [
              "{'Alaunstein': 8.581699346405227,\n",
              " 'Bartbalm Crusoe': 25.318181818181817,\n",
              " 'Rasierhobel Solingen Stahl - Set': 7.224000000000004}"
            ]
          },
          "metadata": {},
          "execution_count": 905
        }
      ]
    },
    {
      "cell_type": "code",
      "source": [],
      "metadata": {
        "id": "YXUpAqIaZvJX"
      },
      "id": "YXUpAqIaZvJX",
      "execution_count": null,
      "outputs": []
    }
  ],
  "metadata": {
    "kernelspec": {
      "display_name": "Python 3 (ipykernel)",
      "language": "python",
      "name": "python3"
    },
    "language_info": {
      "codemirror_mode": {
        "name": "ipython",
        "version": 3
      },
      "file_extension": ".py",
      "mimetype": "text/x-python",
      "name": "python",
      "nbconvert_exporter": "python",
      "pygments_lexer": "ipython3",
      "version": "3.8.5"
    },
    "colab": {
      "provenance": [],
      "include_colab_link": true
    }
  },
  "nbformat": 4,
  "nbformat_minor": 5
}
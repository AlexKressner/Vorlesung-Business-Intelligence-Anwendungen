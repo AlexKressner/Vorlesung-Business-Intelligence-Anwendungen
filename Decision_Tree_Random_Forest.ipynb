{
  "cells": [
    {
      "cell_type": "markdown",
      "metadata": {
        "id": "view-in-github",
        "colab_type": "text"
      },
      "source": [
        "<a href=\"https://colab.research.google.com/github/AlexKressner/Vorlesung-Business-Intelligence-Anwendungen/blob/main/Decision_Tree_Random_Forest.ipynb\" target=\"_parent\"><img src=\"https://colab.research.google.com/assets/colab-badge.svg\" alt=\"Open In Colab\"/></a>"
      ]
    },
    {
      "cell_type": "markdown",
      "source": [
        "# Regression Tree, Beispiel Immobilienpreise\n",
        "\n"
      ],
      "metadata": {
        "id": "TlEeS6BHfKV9"
      },
      "id": "TlEeS6BHfKV9"
    },
    {
      "cell_type": "markdown",
      "source": [
        "## 1 Daten aus Goolge-Drive importieren"
      ],
      "metadata": {
        "id": "fosefoRciSNO"
      },
      "id": "fosefoRciSNO"
    },
    {
      "cell_type": "code",
      "source": [
        "import pandas as pd"
      ],
      "metadata": {
        "id": "LGrl_jqcfXzd"
      },
      "id": "LGrl_jqcfXzd",
      "execution_count": null,
      "outputs": []
    },
    {
      "cell_type": "code",
      "source": [
        "# Google-Drive einbinden\n",
        "from google.colab import drive\n",
        "drive.mount('/content/drive')"
      ],
      "metadata": {
        "id": "I-5QslQG1kr3"
      },
      "id": "I-5QslQG1kr3",
      "execution_count": null,
      "outputs": []
    },
    {
      "cell_type": "code",
      "source": [
        "path = \"/content/drive/MyDrive/DHBW/BI/Daten/\""
      ],
      "metadata": {
        "id": "oL-HwWpZeg-J"
      },
      "id": "oL-HwWpZeg-J",
      "execution_count": null,
      "outputs": []
    },
    {
      "cell_type": "code",
      "source": [
        "# Datentypen für das Laden der Daten definieren\n",
        "# Beispiel: Zwar handelt es sich beim Baujahr um eine Zahl, allerdings interessiert uns\n",
        "# hier nur, ob eine Immobilie in einem Jahr gebaut wurde oder eben nicht. \n",
        "dtypes = {\n",
        "    \"Verkaufsmonat\": \"str\",\n",
        "    \"Baujahr\": \"str\",\n",
        "}"
      ],
      "metadata": {
        "id": "si2UIYtXgBSB"
      },
      "id": "si2UIYtXgBSB",
      "execution_count": null,
      "outputs": []
    },
    {
      "cell_type": "code",
      "source": [
        "# Relevante Spalten definiere\n",
        "cols = [\n",
        "    \"Verkaufspreis\",\"Verkaufsmonat\",\"Wohnraum_qm\",\n",
        "    \"Keller_qm\", \"Grundstueck_qm\",\"Baujahr\"\n",
        "    ]"
      ],
      "metadata": {
        "id": "l_1OmbXGhhsB"
      },
      "id": "l_1OmbXGhhsB",
      "execution_count": null,
      "outputs": []
    },
    {
      "cell_type": "code",
      "source": [
        "# Daten laden\n",
        "data = pd.read_csv(f\"{path}house_price.txt\", dtype=dtypes, usecols=cols)"
      ],
      "metadata": {
        "id": "RgxArxyKgSSu"
      },
      "id": "RgxArxyKgSSu",
      "execution_count": null,
      "outputs": []
    },
    {
      "cell_type": "code",
      "source": [
        "data.dtypes"
      ],
      "metadata": {
        "id": "xxYFISLOgbiP"
      },
      "id": "xxYFISLOgbiP",
      "execution_count": null,
      "outputs": []
    },
    {
      "cell_type": "markdown",
      "source": [
        "## 2 Erster Überblick zum Datensatz"
      ],
      "metadata": {
        "id": "KkHlMAifQF9l"
      },
      "id": "KkHlMAifQF9l"
    },
    {
      "cell_type": "code",
      "source": [
        "# Kopfzeile der Daten\n",
        "data.head()"
      ],
      "metadata": {
        "id": "j6mUMYZ1hVXC"
      },
      "id": "j6mUMYZ1hVXC",
      "execution_count": null,
      "outputs": []
    },
    {
      "cell_type": "code",
      "source": [
        "# Größe des Datensatzes\n",
        "data.shape"
      ],
      "metadata": {
        "id": "qofiApAiQEuA"
      },
      "id": "qofiApAiQEuA",
      "execution_count": null,
      "outputs": []
    },
    {
      "cell_type": "markdown",
      "source": [
        "## 3 Prognose mit einem Entscheidungsbaum"
      ],
      "metadata": {
        "id": "F6l0bN2Di_at"
      },
      "id": "F6l0bN2Di_at"
    },
    {
      "cell_type": "code",
      "source": [
        "# Features, d.h. womit lässt sich der Immobilienpreis vorhersagen!\n",
        "X = data.drop(columns=\"Verkaufspreis\")"
      ],
      "metadata": {
        "id": "jw9nsecciIA0"
      },
      "id": "jw9nsecciIA0",
      "execution_count": null,
      "outputs": []
    },
    {
      "cell_type": "code",
      "source": [
        "# Target, d.h. was soll prognostiziert werden!\n",
        "y = data[\"Verkaufspreis\"]"
      ],
      "metadata": {
        "id": "-R0p_tMFjN-f"
      },
      "id": "-R0p_tMFjN-f",
      "execution_count": null,
      "outputs": []
    },
    {
      "cell_type": "code",
      "source": [
        "# Kategoriale Features umcodieren\n",
        "X = pd.get_dummies(X)"
      ],
      "metadata": {
        "id": "faK9AhsNldxt"
      },
      "id": "faK9AhsNldxt",
      "execution_count": null,
      "outputs": []
    },
    {
      "cell_type": "code",
      "source": [
        "from sklearn.model_selection import train_test_split"
      ],
      "metadata": {
        "id": "khyiUcYRjdYA"
      },
      "id": "khyiUcYRjdYA",
      "execution_count": null,
      "outputs": []
    },
    {
      "cell_type": "code",
      "source": [
        "# Training Algorithmus: X_train (Features), y_train (Target)\n",
        "# Test des Algorithmus (Bewertung): X_test, y_test\n",
        "#     1) Algorithmus bekommt Daten (X_test), die er noch nicht kennt & macht Prognose\n",
        "#     2) Vergleich Prognose mit tatsächlichen Werte (y_test) --> Bewertung\n",
        "\n",
        "X_train, X_test, y_train, y_test = train_test_split(X, y, test_size=0.2, random_state=3)"
      ],
      "metadata": {
        "id": "wRR4swbcjkRI"
      },
      "id": "wRR4swbcjkRI",
      "execution_count": null,
      "outputs": []
    },
    {
      "cell_type": "code",
      "source": [
        "from sklearn.tree import DecisionTreeRegressor"
      ],
      "metadata": {
        "id": "x_31iuj8jvyc"
      },
      "id": "x_31iuj8jvyc",
      "execution_count": null,
      "outputs": []
    },
    {
      "cell_type": "code",
      "source": [
        "decision_tree = DecisionTreeRegressor(max_depth=3)"
      ],
      "metadata": {
        "id": "1GKdd-yxj73L"
      },
      "id": "1GKdd-yxj73L",
      "execution_count": null,
      "outputs": []
    },
    {
      "cell_type": "code",
      "source": [
        "decision_tree.fit(X_train, y_train)"
      ],
      "metadata": {
        "id": "lkvL69unCopG"
      },
      "id": "lkvL69unCopG",
      "execution_count": null,
      "outputs": []
    },
    {
      "cell_type": "code",
      "source": [
        "from sklearn.metrics import mean_absolute_percentage_error"
      ],
      "metadata": {
        "id": "_xyKF1Di4cCg"
      },
      "id": "_xyKF1Di4cCg",
      "execution_count": null,
      "outputs": []
    },
    {
      "cell_type": "code",
      "source": [
        "mean_absolute_percentage_error(y_train, decision_tree.predict(X_train)) * 100"
      ],
      "metadata": {
        "id": "xWEafhPi4084"
      },
      "id": "xWEafhPi4084",
      "execution_count": null,
      "outputs": []
    },
    {
      "cell_type": "code",
      "source": [
        "mean_absolute_percentage_error(y_test, decision_tree.predict(X_test)) * 100"
      ],
      "metadata": {
        "id": "stwNS8yF4jJW"
      },
      "id": "stwNS8yF4jJW",
      "execution_count": null,
      "outputs": []
    },
    {
      "cell_type": "markdown",
      "source": [
        "## 4 Visualisierung des Entscheidungsbaums"
      ],
      "metadata": {
        "id": "SSQDCgtD8hBW"
      },
      "id": "SSQDCgtD8hBW"
    },
    {
      "cell_type": "code",
      "source": [
        "from sklearn import tree"
      ],
      "metadata": {
        "id": "jA1oMjdr-sZE"
      },
      "id": "jA1oMjdr-sZE",
      "execution_count": null,
      "outputs": []
    },
    {
      "cell_type": "code",
      "source": [
        "# Variante 1\n",
        "tree.plot_tree(decision_tree)"
      ],
      "metadata": {
        "id": "L4j8hyV15p3s"
      },
      "id": "L4j8hyV15p3s",
      "execution_count": null,
      "outputs": []
    },
    {
      "cell_type": "code",
      "source": [
        "from sklearn.tree import export_graphviz"
      ],
      "metadata": {
        "id": "0o14iW5u6HPE"
      },
      "id": "0o14iW5u6HPE",
      "execution_count": null,
      "outputs": []
    },
    {
      "cell_type": "code",
      "source": [
        "# Variante 2\n",
        "# 1. Schritt: Exportieren des Entscheidungsbaums in eine .dot Datei\n",
        "export_graphviz(\n",
        "    decision_tree,\n",
        "    out_file=\"/content/drive/MyDrive/DHBW/BI/tree.dot\",\n",
        "    feature_names=decision_tree.feature_names_in_,\n",
        "    rounded=True,\n",
        "    filled=True\n",
        ")"
      ],
      "metadata": {
        "id": "JVJiIIK_7Jvw"
      },
      "id": "JVJiIIK_7Jvw",
      "execution_count": null,
      "outputs": []
    },
    {
      "cell_type": "code",
      "source": [
        "# 2. Schritt: Umwandeln der .dot in eine .png Datei\n",
        "! dot -Tpng /content/drive/MyDrive/DHBW/BI/tree.dot -o /content/drive/MyDrive/DHBW/BI/tree.png"
      ],
      "metadata": {
        "id": "_AQ59IXr7phg"
      },
      "id": "_AQ59IXr7phg",
      "execution_count": null,
      "outputs": []
    },
    {
      "cell_type": "markdown",
      "source": [
        "# 5 Bestimmung optimaler Parameter für den Entscheidungsbaum"
      ],
      "metadata": {
        "id": "dSmJd8-fADv9"
      },
      "id": "dSmJd8-fADv9"
    },
    {
      "cell_type": "code",
      "source": [
        "from sklearn.model_selection import GridSearchCV"
      ],
      "metadata": {
        "id": "T2RSg9oJ7wtp"
      },
      "id": "T2RSg9oJ7wtp",
      "execution_count": null,
      "outputs": []
    },
    {
      "cell_type": "code",
      "source": [
        "# Grid definieren\n",
        "param_grid = {\n",
        "    \"max_depth\": [3, 4, 5, 6, 7] # Tiefe des Baums\n",
        "}"
      ],
      "metadata": {
        "id": "izD6cdcVAIPO"
      },
      "id": "izD6cdcVAIPO",
      "execution_count": null,
      "outputs": []
    },
    {
      "cell_type": "code",
      "source": [
        "grid = GridSearchCV(\n",
        "    decision_tree, # verwendetes Modell\n",
        "    param_grid, # zu untersuchende Parameter\n",
        "    cv=10, # Anzahl der Folds\n",
        "    n_jobs=-1, # Parallelisierung der Ausführung\n",
        "    scoring=\"neg_mean_squared_error\", # Fehlermaß\n",
        ")"
      ],
      "metadata": {
        "id": "Lv3Dp990AsnN"
      },
      "id": "Lv3Dp990AsnN",
      "execution_count": null,
      "outputs": []
    },
    {
      "cell_type": "code",
      "source": [
        "grid.fit(X_train, y_train)"
      ],
      "metadata": {
        "id": "DL3C60nBAumQ"
      },
      "id": "DL3C60nBAumQ",
      "execution_count": null,
      "outputs": []
    },
    {
      "cell_type": "code",
      "source": [
        "grid_search_results = pd.DataFrame(grid.cv_results_)[\n",
        "    [\"mean_test_score\", \"std_test_score\", \"params\"]\n",
        "]\n",
        "grid_search_results"
      ],
      "metadata": {
        "id": "3Q3QeAd0BDSa"
      },
      "id": "3Q3QeAd0BDSa",
      "execution_count": null,
      "outputs": []
    },
    {
      "cell_type": "code",
      "source": [
        "# Auswahl des besten Modells\n",
        "best_model = grid.best_estimator_"
      ],
      "metadata": {
        "id": "zVwt1Ba_BH7M"
      },
      "id": "zVwt1Ba_BH7M",
      "execution_count": null,
      "outputs": []
    },
    {
      "cell_type": "code",
      "source": [
        "best_model.get_params()"
      ],
      "metadata": {
        "id": "l524forQBVYe"
      },
      "id": "l524forQBVYe",
      "execution_count": null,
      "outputs": []
    },
    {
      "cell_type": "code",
      "source": [
        "mean_absolute_percentage_error(y_train, best_model.predict(X_train)) * 100"
      ],
      "metadata": {
        "id": "930lPmB6BjQ1"
      },
      "id": "930lPmB6BjQ1",
      "execution_count": null,
      "outputs": []
    },
    {
      "cell_type": "code",
      "source": [
        "mean_absolute_percentage_error(y_test, best_model.predict(X_test)) * 100"
      ],
      "metadata": {
        "id": "K4oemA87BtIt"
      },
      "id": "K4oemA87BtIt",
      "execution_count": null,
      "outputs": []
    },
    {
      "cell_type": "code",
      "source": [
        "# 1. Schritt: Exportieren des Entscheidungsbaums in eine .dot Datei\n",
        "export_graphviz(\n",
        "    best_model,\n",
        "    out_file=\"/content/drive/MyDrive/DHBW/BI/best_tree.dot\",\n",
        "    feature_names=decision_tree.feature_names_in_,\n",
        "    rounded=True,\n",
        "    filled=True\n",
        ")"
      ],
      "metadata": {
        "id": "ZKw8kAQEBwPw"
      },
      "id": "ZKw8kAQEBwPw",
      "execution_count": null,
      "outputs": []
    },
    {
      "cell_type": "code",
      "source": [
        "# 2. Schritt: Umwandeln der .dot in eine .png Datei\n",
        "! dot -Tpng /content/drive/MyDrive/DHBW/BI/best_tree.dot -o /content/drive/MyDrive/DHBW/BI/best_tree.png"
      ],
      "metadata": {
        "id": "UTwuOfbfDDgS"
      },
      "id": "UTwuOfbfDDgS",
      "execution_count": null,
      "outputs": []
    },
    {
      "cell_type": "markdown",
      "source": [
        "# Random Forest Regressor, Beispiel Immobilienpreise"
      ],
      "metadata": {
        "id": "i3bO2EgES_CA"
      },
      "id": "i3bO2EgES_CA"
    },
    {
      "cell_type": "code",
      "source": [
        "from sklearn.ensemble import RandomForestRegressor"
      ],
      "metadata": {
        "id": "klZSTCJPTY1J"
      },
      "id": "klZSTCJPTY1J",
      "execution_count": null,
      "outputs": []
    },
    {
      "cell_type": "code",
      "source": [
        "forest = RandomForestRegressor()"
      ],
      "metadata": {
        "id": "vLhgyIzxTdb4"
      },
      "id": "vLhgyIzxTdb4",
      "execution_count": null,
      "outputs": []
    },
    {
      "cell_type": "code",
      "source": [
        "# Grid definieren\n",
        "param_grid = {\n",
        "    \"max_depth\": [6, 7, 9, 12], # maximale Tiefe des Baums\n",
        "    \"n_estimators\": [50, 150, 250] # Anzahl der Entscheidungsbäume\n",
        "}"
      ],
      "metadata": {
        "id": "el6BPjPfDINj"
      },
      "id": "el6BPjPfDINj",
      "execution_count": null,
      "outputs": []
    },
    {
      "cell_type": "code",
      "source": [
        "grid = GridSearchCV(\n",
        "    forest, # verwendetes Modell\n",
        "    param_grid, # zu untersuchende Parameter\n",
        "    cv=10, # Anzahl der Folds\n",
        "    n_jobs=-1, # Parallelisierung der Ausführung\n",
        "    scoring=\"neg_mean_squared_error\", # Fehlermaß\n",
        ")"
      ],
      "metadata": {
        "id": "5zcGkGSdTX6_"
      },
      "id": "5zcGkGSdTX6_",
      "execution_count": null,
      "outputs": []
    },
    {
      "cell_type": "code",
      "source": [
        "grid.fit(X_train, y_train)"
      ],
      "metadata": {
        "id": "nxcDKORTTjc-"
      },
      "id": "nxcDKORTTjc-",
      "execution_count": null,
      "outputs": []
    },
    {
      "cell_type": "code",
      "source": [
        "best_model = grid.best_estimator_\n",
        "best_model.get_params()"
      ],
      "metadata": {
        "id": "g-SWEO8pTmb-"
      },
      "id": "g-SWEO8pTmb-",
      "execution_count": null,
      "outputs": []
    },
    {
      "cell_type": "code",
      "source": [
        "mean_absolute_percentage_error(y_train, best_model.predict(X_train)) * 100"
      ],
      "metadata": {
        "id": "ojgsDgL0TqFl"
      },
      "id": "ojgsDgL0TqFl",
      "execution_count": null,
      "outputs": []
    },
    {
      "cell_type": "code",
      "source": [
        "mean_absolute_percentage_error(y_test, best_model.predict(X_test)) * 100"
      ],
      "metadata": {
        "id": "l_fDx328TreI"
      },
      "id": "l_fDx328TreI",
      "execution_count": null,
      "outputs": []
    },
    {
      "cell_type": "code",
      "source": [],
      "metadata": {
        "id": "in905666TuKB"
      },
      "id": "in905666TuKB",
      "execution_count": null,
      "outputs": []
    }
  ],
  "metadata": {
    "kernelspec": {
      "display_name": "Python 3 (ipykernel)",
      "language": "python",
      "name": "python3"
    },
    "language_info": {
      "codemirror_mode": {
        "name": "ipython",
        "version": 3
      },
      "file_extension": ".py",
      "mimetype": "text/x-python",
      "name": "python",
      "nbconvert_exporter": "python",
      "pygments_lexer": "ipython3",
      "version": "3.8.5"
    },
    "colab": {
      "provenance": [],
      "collapsed_sections": [
        "dSmJd8-fADv9"
      ],
      "include_colab_link": true
    }
  },
  "nbformat": 4,
  "nbformat_minor": 5
}